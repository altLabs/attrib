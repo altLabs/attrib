{
 "cells": [
  {
   "cell_type": "code",
   "execution_count": 1,
   "metadata": {},
   "outputs": [],
   "source": [
    "# You will need an older version of plotly for this notebook\n",
    "# !conda remove plotly -y && conda install -c plotly plotly=3.10.0=py_0 -y"
   ]
  },
  {
   "cell_type": "code",
   "execution_count": 2,
   "metadata": {},
   "outputs": [],
   "source": [
    "# You will need orca to save to file. On ubuntu 18.04 there is a \n",
    "# documented missing dependency of libgconf2-4, which you should install\n",
    "# in your environment with `sudo apt -y install libgconf2-4`\n",
    "# !conda remove plotly-orca -y && conda install -c plotly plotly-orca==1.2.1 psutil requests -y"
   ]
  },
  {
   "cell_type": "code",
   "execution_count": 3,
   "metadata": {},
   "outputs": [
    {
     "data": {
      "text/html": [
       "        <script type=\"text/javascript\">\n",
       "        window.PlotlyConfig = {MathJaxConfig: 'local'};\n",
       "        if (window.MathJax) {MathJax.Hub.Config({SVG: {font: \"STIX-Web\"}});}\n",
       "        if (typeof require !== 'undefined') {\n",
       "        require.undef(\"plotly\");\n",
       "        requirejs.config({\n",
       "            paths: {\n",
       "                'plotly': ['https://cdn.plot.ly/plotly-latest.min']\n",
       "            }\n",
       "        });\n",
       "        require(['plotly'], function(Plotly) {\n",
       "            window._Plotly = Plotly;\n",
       "        });\n",
       "        }\n",
       "        </script>\n",
       "        "
      ]
     },
     "metadata": {},
     "output_type": "display_data"
    }
   ],
   "source": [
    "import seaborn as sns\n",
    "import matplotlib.pyplot as plt\n",
    "import numpy as np\n",
    "import pandas as pd\n",
    "import pickle\n",
    "import sys\n",
    "sys.path.append('../')\n",
    "from common.plot_style_utils import set_pub_plot_context, save_for_pub\n",
    "\n",
    "import plotly.plotly as py\n",
    "import plotly.graph_objs as go\n",
    "import plotly.io as pio\n",
    "from plotly.offline import init_notebook_mode, plot, iplot\n",
    "from sklearn.metrics import roc_curve, auc, roc_auc_score\n",
    "\n",
    "%matplotlib inline\n",
    "init_notebook_mode(connected=True)"
   ]
  },
  {
   "cell_type": "code",
   "execution_count": 4,
   "metadata": {},
   "outputs": [],
   "source": [
    "# Process the country predictions to get per-country data\n",
    "predictions = np.load(\"../../data/results/rf/predictions_TEST_countries_seq_meta_selforno.npy\")\n",
    "true = np.load(\"../../data/tts/y_test_country.pkl\")\n",
    "true = true == 33 # True if US, else False\n",
    "class_labels = np.load(\"../../data/results/rf/classes_for_predictions_countries_seq_selforno.npy\")\n",
    "# To translate y indexes to country names\n",
    "encoder = pickle.load(open(\"../../data/encoders/country_to_index_ordinal_encoder.pkl\",\"rb\"))"
   ]
  },
  {
   "cell_type": "code",
   "execution_count": 5,
   "metadata": {},
   "outputs": [
    {
     "data": {
      "text/plain": [
       "(10502, 2)"
      ]
     },
     "execution_count": 5,
     "metadata": {},
     "output_type": "execute_result"
    }
   ],
   "source": [
    "predictions.shape"
   ]
  },
  {
   "cell_type": "code",
   "execution_count": 6,
   "metadata": {},
   "outputs": [
    {
     "data": {
      "text/plain": [
       "(10502,)"
      ]
     },
     "execution_count": 6,
     "metadata": {},
     "output_type": "execute_result"
    }
   ],
   "source": [
    "true.shape"
   ]
  },
  {
   "cell_type": "code",
   "execution_count": 7,
   "metadata": {},
   "outputs": [],
   "source": [
    "def acc(pred, true, class_labels=class_labels):\n",
    "    index = np.argmax(pred, axis=1)\n",
    "    classes = class_labels[index]\n",
    "    correct = (classes == true)\n",
    "    #print(true.shape)\n",
    "    accuracy = np.sum(correct) / len(true)\n",
    "    return accuracy"
   ]
  },
  {
   "cell_type": "code",
   "execution_count": 8,
   "metadata": {},
   "outputs": [],
   "source": [
    "acc_usa = acc(predictions,true, class_labels)"
   ]
  },
  {
   "cell_type": "code",
   "execution_count": 9,
   "metadata": {},
   "outputs": [
    {
     "data": {
      "text/plain": [
       "0.8421253094648639"
      ]
     },
     "execution_count": 9,
     "metadata": {},
     "output_type": "execute_result"
    }
   ],
   "source": [
    "acc_usa"
   ]
  },
  {
   "cell_type": "code",
   "execution_count": 10,
   "metadata": {},
   "outputs": [
    {
     "data": {
      "text/plain": [
       "[(0.5333333333333333, 0.8, 0.9333333333333333),\n",
       " (0.8, 0.4, 0.4666666666666667),\n",
       " (0.8666666666666667, 0.8, 0.4666666666666667),\n",
       " (0.06666666666666667, 0.4666666666666667, 0.2),\n",
       " (0.2, 0.13333333333333333, 0.5333333333333333),\n",
       " (0.6666666666666666, 0.26666666666666666, 0.6),\n",
       " (0.26666666666666666, 0.6666666666666666, 0.6),\n",
       " (0.6, 0.6, 0.2),\n",
       " (0.5333333333333333, 0.13333333333333333, 0.3333333333333333),\n",
       " (0.4, 0.06666666666666667, 0.0)]"
      ]
     },
     "execution_count": 10,
     "metadata": {},
     "output_type": "execute_result"
    }
   ],
   "source": [
    "set_pub_plot_context()\n",
    "sns.color_palette()"
   ]
  },
  {
   "cell_type": "code",
   "execution_count": 11,
   "metadata": {},
   "outputs": [
    {
     "data": {
      "image/png": "[encoded data removed]",
      "text/plain": [
       "<matplotlib.figure.Figure at 0x7f4a45e05f60>"
      ]
     },
     "metadata": {},
     "output_type": "display_data"
    }
   ],
   "source": [
    "sns.palplot(sns.color_palette())"
   ]
  },
  {
   "cell_type": "code",
   "execution_count": 12,
   "metadata": {},
   "outputs": [
    {
     "data": {
      "application/vnd.plotly.v1+json": {
       "config": {
        "linkText": "Export to plot.ly",
        "plotlyServerURL": "https://plot.ly",
        "showLink": false
       },
       "data": [
        {
         "autocolorscale": false,
         "colorbar": {
          "tickprefix": "%",
          "title": {
           "text": "Accuracy (%)"
          }
         },
         "colorscale": [
          [
           0,
           "rgb(0.8, 0.4, 0.4666666666666667)"
          ],
          [
           1,
           "rgb(255,255,255)"
          ]
         ],
         "locations": [
          "USA",
          "AUS",
          "GBR",
          "AGO"
         ],
         "marker": {
          "line": {
           "color": "rgb(180,180,180)",
           "width": 1
          }
         },
         "reversescale": true,
         "text": [
          "United States",
          "Australia",
          "UK",
          "Angola"
         ],
         "type": "choropleth",
         "uid": "5cc8ad89-f341-4a6c-a990-1c373123d23c",
         "z": [
          84.21253094648638,
          0,
          100,
          50
         ]
        }
       ],
       "layout": {
        "geo": {
         "projection": {
          "type": "robinson"
         },
         "scope": "world",
         "showcoastlines": true,
         "showframe": true
        },
        "title": {
         "text": "Per-country Accuracy"
        }
       }
      },
      "text/html": [
       "<div>\n",
       "        \n",
       "        \n",
       "            <div id=\"4e69fee2-9c10-427e-bfb8-525821aa51b4\" class=\"plotly-graph-div\" style=\"height:525px; width:100%;\"></div>\n",
       "            <script type=\"text/javascript\">\n",
       "                require([\"plotly\"], function(Plotly) {\n",
       "                    window.PLOTLYENV=window.PLOTLYENV || {};\n",
       "                    window.PLOTLYENV.BASE_URL='https://plot.ly';\n",
       "                    \n",
       "                if (document.getElementById(\"4e69fee2-9c10-427e-bfb8-525821aa51b4\")) {\n",
       "                    Plotly.newPlot(\n",
       "                        '4e69fee2-9c10-427e-bfb8-525821aa51b4',\n",
       "                        [{\"autocolorscale\": false, \"colorbar\": {\"tickprefix\": \"%\", \"title\": {\"text\": \"Accuracy (%)\"}}, \"colorscale\": [[0, \"rgb(0.8, 0.4, 0.4666666666666667)\"], [1, \"rgb(255,255,255)\"]], \"locations\": [\"USA\", \"AUS\", \"GBR\", \"AGO\"], \"marker\": {\"line\": {\"color\": \"rgb(180,180,180)\", \"width\": 1}}, \"reversescale\": true, \"text\": [\"United States\", \"Australia\", \"UK\", \"Angola\"], \"type\": \"choropleth\", \"uid\": \"5cc8ad89-f341-4a6c-a990-1c373123d23c\", \"z\": [84.21253094648638, 0, 100, 50]}],\n",
       "                        {\"geo\": {\"projection\": {\"type\": \"robinson\"}, \"scope\": \"world\", \"showcoastlines\": true, \"showframe\": true}, \"title\": {\"text\": \"Per-country Accuracy\"}},\n",
       "                        {\"showLink\": false, \"linkText\": \"Export to plot.ly\", \"plotlyServerURL\": \"https://plot.ly\", \"responsive\": true}\n",
       "                    ).then(function(){\n",
       "                            \n",
       "var gd = document.getElementById('4e69fee2-9c10-427e-bfb8-525821aa51b4');\n",
       "var x = new MutationObserver(function (mutations, observer) {{\n",
       "        var display = window.getComputedStyle(gd).display;\n",
       "        if (!display || display === 'none') {{\n",
       "            console.log([gd, 'removed!']);\n",
       "            Plotly.purge(gd);\n",
       "            observer.disconnect();\n",
       "        }}\n",
       "}});\n",
       "\n",
       "// Listen for the removal of the full notebook cells\n",
       "var notebookContainer = gd.closest('#notebook-container');\n",
       "if (notebookContainer) {{\n",
       "    x.observe(notebookContainer, {childList: true});\n",
       "}}\n",
       "\n",
       "// Listen for the clearing of the current output cell\n",
       "var outputEl = gd.closest('.output');\n",
       "if (outputEl) {{\n",
       "    x.observe(outputEl, {childList: true});\n",
       "}}\n",
       "\n",
       "                        })\n",
       "                };\n",
       "                });\n",
       "            </script>\n",
       "        </div>"
      ]
     },
     "metadata": {},
     "output_type": "display_data"
    }
   ],
   "source": [
    "data = [go.Choropleth(\n",
    "    locations = ['USA',\"AUS\",\"GBR\", \"AGO\"], # Color two fara way countries to get a full span of the colorbar\n",
    "    z = [acc_usa*100, 0, 100,50],\n",
    "    text = [\"United States\", \"Australia\", \"UK\", \"Angola\"],\n",
    "    colorscale = [\n",
    "        [0, \"rgb(0.8, 0.4, 0.4666666666666667)\"],\n",
    "        [1, \"rgb(255,255,255)\"]\n",
    "    ],\n",
    "    autocolorscale = False,\n",
    "    reversescale = True,\n",
    "    marker = go.choropleth.Marker(\n",
    "        line = go.choropleth.marker.Line(\n",
    "            color = 'rgb(180,180,180)',\n",
    "            width = 1\n",
    "            #color = 'rgb(255,255,255)',\n",
    "            #width = 2\n",
    "        )),\n",
    "    colorbar = go.choropleth.ColorBar(\n",
    "        tickprefix = '%',\n",
    "        title = 'Accuracy (%)'),\n",
    ")]\n",
    "\n",
    "layout = go.Layout(\n",
    "    title = go.layout.Title(\n",
    "        text = 'Per-country Accuracy'\n",
    "    ),\n",
    "    geo = go.layout.Geo(\n",
    "        scope=\"world\",\n",
    "        showframe = True,\n",
    "        showcoastlines = True,\n",
    "        projection = go.layout.geo.Projection(\n",
    "            type = \"robinson\"\n",
    "        )\n",
    "    ),\n",
    ")\n",
    "\n",
    "fig = go.Figure(data = data, layout = layout)\n",
    "iplot(fig, filename = 'd3-world-map')\n",
    "pio.write_image(fig, '../../data/manuscript/figs/3/full_us_vs_rest.pdf')"
   ]
  },
  {
   "cell_type": "code",
   "execution_count": 13,
   "metadata": {},
   "outputs": [
    {
     "data": {
      "text/plain": [
       "array([[0.234, 0.766],\n",
       "       [0.299, 0.701],\n",
       "       [0.238, 0.762],\n",
       "       ...,\n",
       "       [0.173, 0.827],\n",
       "       [0.378, 0.622],\n",
       "       [0.82 , 0.18 ]])"
      ]
     },
     "execution_count": 13,
     "metadata": {},
     "output_type": "execute_result"
    }
   ],
   "source": [
    "# Now make the ROC AUC \n",
    "\n",
    "predictions"
   ]
  },
  {
   "cell_type": "code",
   "execution_count": 14,
   "metadata": {},
   "outputs": [
    {
     "data": {
      "text/plain": [
       "array([False,  True])"
      ]
     },
     "execution_count": 14,
     "metadata": {},
     "output_type": "execute_result"
    }
   ],
   "source": [
    "class_labels"
   ]
  },
  {
   "cell_type": "code",
   "execution_count": 15,
   "metadata": {},
   "outputs": [],
   "source": [
    "predictions = predictions[:,1]"
   ]
  },
  {
   "cell_type": "code",
   "execution_count": 16,
   "metadata": {},
   "outputs": [
    {
     "data": {
      "text/plain": [
       "array([0.766, 0.701, 0.762, ..., 0.827, 0.622, 0.18 ])"
      ]
     },
     "execution_count": 16,
     "metadata": {},
     "output_type": "execute_result"
    }
   ],
   "source": [
    "predictions"
   ]
  },
  {
   "cell_type": "code",
   "execution_count": 17,
   "metadata": {},
   "outputs": [
    {
     "data": {
      "text/plain": [
       "0.9286297722749244"
      ]
     },
     "execution_count": 17,
     "metadata": {},
     "output_type": "execute_result"
    }
   ],
   "source": [
    "fpr, tpr, thresh = roc_curve(true,predictions)\n",
    "roc_auc = auc(fpr,tpr)\n",
    "\n",
    "roc_auc_score(true,predictions)"
   ]
  },
  {
   "cell_type": "code",
   "execution_count": 18,
   "metadata": {},
   "outputs": [
    {
     "data": {
      "text/plain": [
       "array([0.00000000e+00, 0.00000000e+00, 0.00000000e+00, 0.00000000e+00,\n",
       "       0.00000000e+00, 0.00000000e+00, 0.00000000e+00, 0.00000000e+00,\n",
       "       0.00000000e+00, 0.00000000e+00, 0.00000000e+00, 0.00000000e+00,\n",
       "       0.00000000e+00, 0.00000000e+00, 0.00000000e+00, 0.00000000e+00,\n",
       "       0.00000000e+00, 0.00000000e+00, 0.00000000e+00, 0.00000000e+00,\n",
       "       0.00000000e+00, 0.00000000e+00, 0.00000000e+00, 0.00000000e+00,\n",
       "       0.00000000e+00, 0.00000000e+00, 0.00000000e+00, 0.00000000e+00,\n",
       "       0.00000000e+00, 0.00000000e+00, 0.00000000e+00, 0.00000000e+00,\n",
       "       0.00000000e+00, 0.00000000e+00, 0.00000000e+00, 0.00000000e+00,\n",
       "       0.00000000e+00, 0.00000000e+00, 0.00000000e+00, 2.84333239e-04,\n",
       "       2.84333239e-04, 2.84333239e-04, 2.84333239e-04, 2.84333239e-04,\n",
       "       2.84333239e-04, 2.84333239e-04, 2.84333239e-04, 2.84333239e-04,\n",
       "       2.84333239e-04, 2.84333239e-04, 2.84333239e-04, 2.84333239e-04,\n",
       "       2.84333239e-04, 2.84333239e-04, 2.84333239e-04, 2.84333239e-04,\n",
       "       2.84333239e-04, 2.84333239e-04, 2.84333239e-04, 2.84333239e-04,\n",
       "       2.84333239e-04, 5.68666477e-04, 5.68666477e-04, 5.68666477e-04,\n",
       "       5.68666477e-04, 5.68666477e-04, 5.68666477e-04, 5.68666477e-04,\n",
       "       5.68666477e-04, 5.68666477e-04, 8.52999716e-04, 8.52999716e-04,\n",
       "       8.52999716e-04, 1.13733295e-03, 1.13733295e-03, 1.13733295e-03,\n",
       "       1.13733295e-03, 1.13733295e-03, 1.13733295e-03, 1.13733295e-03,\n",
       "       1.13733295e-03, 1.13733295e-03, 1.13733295e-03, 1.42166619e-03,\n",
       "       1.42166619e-03, 1.42166619e-03, 1.42166619e-03, 1.42166619e-03,\n",
       "       1.42166619e-03, 1.42166619e-03, 1.70599943e-03, 1.70599943e-03,\n",
       "       1.70599943e-03, 1.70599943e-03, 1.70599943e-03, 1.70599943e-03,\n",
       "       1.70599943e-03, 1.70599943e-03, 1.99033267e-03, 1.99033267e-03,\n",
       "       1.99033267e-03, 1.99033267e-03, 1.99033267e-03, 1.99033267e-03,\n",
       "       1.99033267e-03, 1.99033267e-03, 1.99033267e-03, 1.99033267e-03,\n",
       "       2.55899915e-03, 2.55899915e-03, 2.55899915e-03, 2.84333239e-03,\n",
       "       2.84333239e-03, 2.84333239e-03, 3.12766562e-03, 3.12766562e-03,\n",
       "       3.12766562e-03, 3.41199886e-03, 3.41199886e-03, 3.41199886e-03,\n",
       "       3.69633210e-03, 4.26499858e-03, 4.26499858e-03, 4.26499858e-03,\n",
       "       4.26499858e-03, 4.26499858e-03, 4.26499858e-03, 4.26499858e-03,\n",
       "       4.54933182e-03, 4.54933182e-03, 4.54933182e-03, 4.54933182e-03,\n",
       "       4.54933182e-03, 4.83366506e-03, 5.40233153e-03, 5.40233153e-03,\n",
       "       5.40233153e-03, 5.40233153e-03, 5.68666477e-03, 5.68666477e-03,\n",
       "       5.68666477e-03, 5.68666477e-03, 5.97099801e-03, 5.97099801e-03,\n",
       "       5.97099801e-03, 6.25533125e-03, 6.25533125e-03, 6.25533125e-03,\n",
       "       6.82399773e-03, 7.10833096e-03, 7.39266420e-03, 7.96133068e-03,\n",
       "       7.96133068e-03, 7.96133068e-03, 7.96133068e-03, 8.24566392e-03,\n",
       "       8.24566392e-03, 8.52999716e-03, 9.09866363e-03, 9.09866363e-03,\n",
       "       9.38299687e-03, 9.95166335e-03, 1.02359966e-02, 1.05203298e-02,\n",
       "       1.05203298e-02, 1.08046631e-02, 1.10889963e-02, 1.13733295e-02,\n",
       "       1.22263293e-02, 1.25106625e-02, 1.25106625e-02, 1.25106625e-02,\n",
       "       1.25106625e-02, 1.27949957e-02, 1.27949957e-02, 1.27949957e-02,\n",
       "       1.30793290e-02, 1.30793290e-02, 1.30793290e-02, 1.30793290e-02,\n",
       "       1.33636622e-02, 1.36479955e-02, 1.42166619e-02, 1.47853284e-02,\n",
       "       1.53539949e-02, 1.56383281e-02, 1.62069946e-02, 1.67756611e-02,\n",
       "       1.76286608e-02, 1.76286608e-02, 1.79129940e-02, 1.79129940e-02,\n",
       "       1.87659937e-02, 1.96189935e-02, 2.07563264e-02, 2.16093261e-02,\n",
       "       2.21779926e-02, 2.21779926e-02, 2.24623258e-02, 2.27466591e-02,\n",
       "       2.33153256e-02, 2.50213250e-02, 2.58743247e-02, 2.58743247e-02,\n",
       "       2.64429912e-02, 2.64429912e-02, 2.72959909e-02, 2.78646574e-02,\n",
       "       2.90019903e-02, 3.04236565e-02, 3.15609895e-02, 3.21296560e-02,\n",
       "       3.24139892e-02, 3.35513221e-02, 3.41199886e-02, 3.46886551e-02,\n",
       "       3.46886551e-02, 3.49729883e-02, 3.63946545e-02, 3.72476543e-02,\n",
       "       3.83849872e-02, 3.95223202e-02, 3.98066534e-02, 3.98066534e-02,\n",
       "       4.03753199e-02, 4.09439864e-02, 4.26499858e-02, 4.35029855e-02,\n",
       "       4.52089849e-02, 4.60619846e-02, 4.71993176e-02, 4.80523173e-02,\n",
       "       4.89053170e-02, 5.11799829e-02, 5.14643162e-02, 5.17486494e-02,\n",
       "       5.23173159e-02, 5.28859824e-02, 5.37389821e-02, 5.51606483e-02,\n",
       "       5.60136480e-02, 5.71509809e-02, 5.77196474e-02, 5.99943133e-02,\n",
       "       6.25533125e-02, 6.34063122e-02, 6.45436452e-02, 6.48279784e-02,\n",
       "       6.56809781e-02, 6.62496446e-02, 6.65339778e-02, 6.73869775e-02,\n",
       "       6.85243105e-02, 7.02303099e-02, 7.16519761e-02, 7.27893091e-02,\n",
       "       7.39266420e-02, 7.47796417e-02, 7.76229741e-02, 7.93289736e-02,\n",
       "       8.04663065e-02, 8.13193062e-02, 8.27409724e-02, 8.35939721e-02,\n",
       "       8.44469719e-02, 8.67216378e-02, 8.81433040e-02, 9.07023031e-02,\n",
       "       9.18396361e-02, 9.38299687e-02, 9.52516349e-02, 9.72419676e-02,\n",
       "       9.89479670e-02, 1.00369633e-01, 1.01791299e-01, 1.03781632e-01,\n",
       "       1.04634632e-01, 1.05487632e-01, 1.06056298e-01, 1.07193631e-01,\n",
       "       1.08046631e-01, 1.10321297e-01, 1.10889963e-01, 1.12027296e-01,\n",
       "       1.12880296e-01, 1.15154962e-01, 1.16007961e-01, 1.18282627e-01,\n",
       "       1.19419960e-01, 1.21410293e-01, 1.21978959e-01, 1.25106625e-01,\n",
       "       1.27096958e-01, 1.28802957e-01, 1.29940290e-01, 1.31930623e-01,\n",
       "       1.33920955e-01, 1.34489622e-01, 1.37901621e-01, 1.39607620e-01,\n",
       "       1.41029286e-01, 1.44725618e-01, 1.46147285e-01, 1.48137617e-01,\n",
       "       1.50980950e-01, 1.52118283e-01, 1.54108615e-01, 1.56667614e-01,\n",
       "       1.57236281e-01, 1.58657947e-01, 1.60648280e-01, 1.62069946e-01,\n",
       "       1.63207279e-01, 1.64060279e-01, 1.65766278e-01, 1.67187944e-01,\n",
       "       1.69462610e-01, 1.70884276e-01, 1.72590276e-01, 1.73443276e-01,\n",
       "       1.74580608e-01, 1.76002275e-01, 1.78276941e-01, 1.81404606e-01,\n",
       "       1.82257606e-01, 1.83679272e-01, 1.84247939e-01, 1.86522604e-01,\n",
       "       1.87375604e-01, 1.89081604e-01, 1.89650270e-01, 1.91071936e-01,\n",
       "       1.93062269e-01, 1.94768268e-01, 1.96474268e-01, 1.97611601e-01,\n",
       "       1.99601933e-01, 2.01307933e-01, 2.04435599e-01, 2.05572931e-01,\n",
       "       2.07563264e-01, 2.08984930e-01, 2.10690930e-01, 2.12112596e-01,\n",
       "       2.14102929e-01, 2.16946261e-01, 2.18367927e-01, 2.20073927e-01,\n",
       "       2.21495593e-01, 2.23485926e-01, 2.25760591e-01, 2.26613591e-01,\n",
       "       2.28035257e-01, 2.31447256e-01, 2.32584589e-01, 2.34574922e-01,\n",
       "       2.36280921e-01, 2.38271254e-01, 2.40830253e-01, 2.41398920e-01,\n",
       "       2.41967586e-01, 2.44526585e-01, 2.45948251e-01, 2.47085584e-01,\n",
       "       2.49644583e-01, 2.51066250e-01, 2.51634916e-01, 2.53625249e-01,\n",
       "       2.55331248e-01, 2.57605914e-01, 2.59596247e-01, 2.60449247e-01,\n",
       "       2.61586579e-01, 2.64145579e-01, 2.65567245e-01, 2.66988911e-01,\n",
       "       2.68410577e-01, 2.69832243e-01, 2.70400910e-01, 2.71538243e-01,\n",
       "       2.72675576e-01, 2.74381575e-01, 2.75803241e-01, 2.78077907e-01,\n",
       "       2.79215240e-01, 2.80636906e-01, 2.82627239e-01, 2.83764572e-01,\n",
       "       2.85186238e-01, 2.88313904e-01, 2.89735570e-01, 2.91725903e-01,\n",
       "       2.94000569e-01, 2.95137902e-01, 2.95990901e-01, 2.97696901e-01,\n",
       "       2.99402900e-01, 2.99971567e-01, 3.03952232e-01, 3.05658231e-01,\n",
       "       3.06795564e-01, 3.08501564e-01, 3.10491897e-01, 3.12766562e-01,\n",
       "       3.13335229e-01, 3.16178561e-01, 3.18453227e-01, 3.18737560e-01,\n",
       "       3.21012226e-01, 3.22718226e-01, 3.23855559e-01, 3.24992892e-01,\n",
       "       3.26698891e-01, 3.27836224e-01, 3.28689224e-01, 3.30110890e-01,\n",
       "       3.32385556e-01, 3.33807222e-01, 3.34375889e-01, 3.36366221e-01,\n",
       "       3.37787887e-01, 3.41199886e-01, 3.43190219e-01, 3.44896218e-01,\n",
       "       3.46317885e-01, 3.47170884e-01, 3.49729883e-01, 3.50867216e-01,\n",
       "       3.51720216e-01, 3.53426216e-01, 3.55985215e-01, 3.57691214e-01,\n",
       "       3.59112880e-01, 3.60818880e-01, 3.62240546e-01, 3.64799545e-01,\n",
       "       3.66789878e-01, 3.69064544e-01, 3.70486210e-01, 3.71623543e-01,\n",
       "       3.72476543e-01, 3.73329542e-01, 3.75604208e-01, 3.78163207e-01,\n",
       "       3.79584873e-01, 3.81575206e-01, 3.82143873e-01, 3.84418539e-01,\n",
       "       3.85840205e-01, 3.86408871e-01, 3.87830537e-01, 3.90673870e-01,\n",
       "       3.91526869e-01, 3.93232869e-01, 3.95791868e-01, 3.97497868e-01,\n",
       "       3.99488200e-01, 4.01762866e-01, 4.03468866e-01, 4.04606198e-01,\n",
       "       4.05459198e-01, 4.07165198e-01, 4.07449531e-01, 4.10008530e-01,\n",
       "       4.10577196e-01, 4.11714529e-01, 4.12567529e-01, 4.14273529e-01,\n",
       "       4.15979528e-01, 4.16263861e-01, 4.17969861e-01, 4.19391527e-01,\n",
       "       4.24509525e-01, 4.25646858e-01, 4.27068524e-01, 4.27921524e-01,\n",
       "       4.29627523e-01, 4.30480523e-01, 4.33039522e-01, 4.35314188e-01,\n",
       "       4.36735854e-01, 4.38441854e-01, 4.39294854e-01, 4.41285186e-01,\n",
       "       4.43844185e-01, 4.45265852e-01, 4.46118851e-01, 4.47824851e-01,\n",
       "       4.48393517e-01, 4.49246517e-01, 4.50668183e-01, 4.51521183e-01,\n",
       "       4.52942849e-01, 4.54364515e-01, 4.54933182e-01, 4.56354848e-01,\n",
       "       4.58345181e-01, 4.59482514e-01, 4.60904180e-01, 4.62610179e-01,\n",
       "       4.63463179e-01, 4.64316179e-01, 4.65737845e-01, 4.66590844e-01,\n",
       "       4.66875178e-01, 4.68012511e-01, 4.68865510e-01, 4.70287177e-01,\n",
       "       4.71424510e-01, 4.72846176e-01, 4.73983509e-01, 4.74836508e-01,\n",
       "       4.76542508e-01, 4.77395508e-01, 4.78248507e-01, 4.79101507e-01,\n",
       "       4.80523173e-01, 4.82513506e-01, 4.85925505e-01, 4.86778504e-01,\n",
       "       4.87631504e-01, 4.88768837e-01, 4.89337504e-01, 4.90474837e-01,\n",
       "       4.92180836e-01, 4.93318169e-01, 4.94171169e-01, 4.95592835e-01,\n",
       "       4.97298834e-01, 4.99573500e-01, 5.01563833e-01, 5.01848166e-01,\n",
       "       5.02701166e-01, 5.03269832e-01, 5.04407165e-01, 5.06681831e-01,\n",
       "       5.07534831e-01, 5.08387831e-01, 5.10093830e-01, 5.10662496e-01,\n",
       "       5.14074495e-01, 5.14643162e-01, 5.15780495e-01, 5.16633494e-01,\n",
       "       5.18055161e-01, 5.18623827e-01, 5.20045493e-01, 5.21467160e-01,\n",
       "       5.24026159e-01, 5.24594825e-01, 5.26016491e-01, 5.26300825e-01,\n",
       "       5.28291157e-01, 5.29428490e-01, 5.29712823e-01, 5.30850156e-01,\n",
       "       5.31134490e-01, 5.31987489e-01, 5.32840489e-01, 5.33409156e-01,\n",
       "       5.34262155e-01, 5.34830822e-01, 5.35399488e-01, 5.35968155e-01,\n",
       "       5.37674154e-01, 5.38811487e-01, 5.39948820e-01, 5.41086153e-01,\n",
       "       5.43360819e-01, 5.43929485e-01, 5.46204151e-01, 5.46772818e-01,\n",
       "       5.47057151e-01, 5.49047484e-01, 5.49331817e-01, 5.49900483e-01,\n",
       "       5.50753483e-01, 5.51890816e-01, 5.53028149e-01, 5.54449815e-01,\n",
       "       5.55018482e-01, 5.56155815e-01, 5.57008814e-01, 5.57577481e-01,\n",
       "       5.59567813e-01, 5.60420813e-01, 5.62126813e-01, 5.62695479e-01,\n",
       "       5.63548479e-01, 5.64401479e-01, 5.66107478e-01, 5.67244811e-01,\n",
       "       5.68382144e-01, 5.68382144e-01, 5.69803810e-01, 5.72078476e-01,\n",
       "       5.73784475e-01, 5.74921808e-01, 5.76627808e-01, 5.77480808e-01,\n",
       "       5.79471140e-01, 5.81745806e-01, 5.83451806e-01, 5.85726471e-01,\n",
       "       5.87432471e-01, 5.87716804e-01, 5.89138470e-01, 5.89707137e-01,\n",
       "       5.90560136e-01, 5.92266136e-01, 5.93403469e-01, 5.95393802e-01,\n",
       "       5.96246801e-01, 5.96531134e-01, 5.97384134e-01, 5.99090134e-01,\n",
       "       5.99943133e-01, 6.02217799e-01, 6.03355132e-01, 6.04492465e-01,\n",
       "       6.05629798e-01, 6.06198465e-01, 6.07620131e-01, 6.08757464e-01,\n",
       "       6.09326130e-01, 6.09894797e-01, 6.10179130e-01, 6.11316463e-01,\n",
       "       6.12738129e-01, 6.13022462e-01, 6.14444129e-01, 6.14728462e-01,\n",
       "       6.15297128e-01, 6.15581461e-01, 6.16434461e-01, 6.16718794e-01,\n",
       "       6.17571794e-01, 6.18709127e-01, 6.19562127e-01, 6.20983793e-01,\n",
       "       6.21836793e-01, 6.23542792e-01, 6.24680125e-01, 6.26386125e-01,\n",
       "       6.28660790e-01, 6.30935456e-01, 6.31504123e-01, 6.32641456e-01,\n",
       "       6.33494456e-01, 6.34916122e-01, 6.35769121e-01, 6.37190788e-01,\n",
       "       6.38043787e-01, 6.38328121e-01, 6.40034120e-01, 6.40602786e-01,\n",
       "       6.41740119e-01, 6.42593119e-01, 6.43161786e-01, 6.43446119e-01,\n",
       "       6.44014785e-01, 6.44867785e-01, 6.45436452e-01, 6.46858118e-01,\n",
       "       6.47142451e-01, 6.48279784e-01, 6.48564117e-01, 6.49701450e-01,\n",
       "       6.51123116e-01, 6.51691783e-01, 6.51691783e-01, 6.52829116e-01,\n",
       "       6.54250782e-01, 6.55672448e-01, 6.56525448e-01, 6.57662781e-01,\n",
       "       6.57947114e-01, 6.58800114e-01, 6.59937447e-01, 6.62780779e-01,\n",
       "       6.63065112e-01, 6.64202445e-01, 6.65055445e-01, 6.66477111e-01,\n",
       "       6.67614444e-01, 6.69604777e-01, 6.70457777e-01, 6.71026443e-01,\n",
       "       6.72732442e-01, 6.75007108e-01, 6.75291442e-01, 6.76144441e-01,\n",
       "       6.76713108e-01, 6.78134774e-01, 6.78987774e-01, 6.79272107e-01,\n",
       "       6.80693773e-01, 6.81546773e-01, 6.82399773e-01, 6.83537105e-01,\n",
       "       6.84390105e-01, 6.86380438e-01, 6.87802104e-01, 6.88370771e-01,\n",
       "       6.89223770e-01, 6.90645436e-01, 6.91782769e-01, 6.93488769e-01,\n",
       "       6.94910435e-01, 6.95479102e-01, 6.96332101e-01, 6.96616434e-01,\n",
       "       6.97185101e-01, 6.99459767e-01, 7.00028433e-01, 7.01450100e-01,\n",
       "       7.01734433e-01, 7.02303099e-01, 7.04577765e-01, 7.07136764e-01,\n",
       "       7.07989764e-01, 7.08558430e-01, 7.09411430e-01, 7.10548763e-01,\n",
       "       7.11117430e-01, 7.11970429e-01, 7.12254763e-01, 7.15098095e-01,\n",
       "       7.16235428e-01, 7.18225761e-01, 7.19931760e-01, 7.20784760e-01,\n",
       "       7.21353426e-01, 7.22775092e-01, 7.23912425e-01, 7.24765425e-01,\n",
       "       7.25902758e-01, 7.26755758e-01, 7.28461757e-01, 7.29599090e-01,\n",
       "       7.29883423e-01, 7.30736423e-01, 7.31873756e-01, 7.33295422e-01,\n",
       "       7.35285755e-01, 7.36423088e-01, 7.38129087e-01, 7.39266420e-01,\n",
       "       7.40119420e-01, 7.42109753e-01, 7.43247086e-01, 7.44384419e-01,\n",
       "       7.46659084e-01, 7.47512084e-01, 7.48080751e-01, 7.48365084e-01,\n",
       "       7.49502417e-01, 7.50355417e-01, 7.50924083e-01, 7.51777083e-01,\n",
       "       7.55189082e-01, 7.55473415e-01, 7.56326415e-01, 7.58601080e-01,\n",
       "       7.60022747e-01, 7.60875746e-01, 7.61444413e-01, 7.62581746e-01,\n",
       "       7.63434746e-01, 7.64003412e-01, 7.65140745e-01, 7.65993745e-01,\n",
       "       7.66278078e-01, 7.68268411e-01, 7.69121410e-01, 7.70258743e-01,\n",
       "       7.71680409e-01, 7.71964743e-01, 7.72817742e-01, 7.74239409e-01,\n",
       "       7.74523742e-01, 7.76798408e-01, 7.77082741e-01, 7.78220074e-01,\n",
       "       7.79926073e-01, 7.82769406e-01, 7.83906739e-01, 7.84191072e-01,\n",
       "       7.85044072e-01, 7.86181405e-01, 7.90446403e-01, 7.91015070e-01,\n",
       "       7.91868069e-01, 7.92721069e-01, 7.94142735e-01, 7.94711402e-01,\n",
       "       7.96133068e-01, 7.97839067e-01, 7.98123401e-01, 7.99260734e-01,\n",
       "       8.00113733e-01, 8.01535399e-01, 8.02104066e-01, 8.02388399e-01,\n",
       "       8.03241399e-01, 8.04378732e-01, 8.04947398e-01, 8.06369065e-01,\n",
       "       8.06937731e-01, 8.07222064e-01, 8.08643730e-01, 8.10349730e-01,\n",
       "       8.10918396e-01, 8.11487063e-01, 8.13193062e-01, 8.17173728e-01,\n",
       "       8.17458061e-01, 8.20017060e-01, 8.20301393e-01, 8.20870060e-01,\n",
       "       8.21723059e-01, 8.22007393e-01, 8.22860392e-01, 8.23997725e-01,\n",
       "       8.25988058e-01, 8.26841058e-01, 8.29684390e-01, 8.30537390e-01,\n",
       "       8.31674723e-01, 8.33380722e-01, 8.34518055e-01, 8.35086722e-01,\n",
       "       8.37361388e-01, 8.38214387e-01, 8.39351720e-01, 8.41057720e-01,\n",
       "       8.42479386e-01, 8.43616719e-01, 8.45891385e-01, 8.46744384e-01,\n",
       "       8.48166051e-01, 8.49303384e-01, 8.50156383e-01, 8.51293716e-01,\n",
       "       8.51578049e-01, 8.52715382e-01, 8.54421382e-01, 8.54705715e-01,\n",
       "       8.56980381e-01, 8.58686380e-01, 8.60392380e-01, 8.61529713e-01,\n",
       "       8.62382713e-01, 8.63520045e-01, 8.65510378e-01, 8.66647711e-01,\n",
       "       8.67500711e-01, 8.67785044e-01, 8.68638044e-01, 8.70059710e-01,\n",
       "       8.71197043e-01, 8.71765709e-01, 8.76030708e-01, 8.77168041e-01,\n",
       "       8.77452374e-01, 8.79727040e-01, 8.80580040e-01, 8.82286039e-01,\n",
       "       8.83423372e-01, 8.84276372e-01, 8.84560705e-01, 8.85698038e-01,\n",
       "       8.87119704e-01, 8.87404038e-01, 8.87972704e-01, 8.91100370e-01,\n",
       "       8.92806369e-01, 8.94512368e-01, 8.95649701e-01, 8.97640034e-01,\n",
       "       8.98493034e-01, 8.99061700e-01, 8.99346034e-01, 8.99914700e-01,\n",
       "       9.00199033e-01, 9.02473699e-01, 9.03042366e-01, 9.04179699e-01,\n",
       "       9.04748365e-01, 9.05885698e-01, 9.06738698e-01, 9.09582030e-01,\n",
       "       9.11288030e-01, 9.11572363e-01, 9.12709696e-01, 9.13562695e-01,\n",
       "       9.16406028e-01, 9.18396361e-01, 9.19249360e-01, 9.24367359e-01,\n",
       "       9.25789025e-01, 9.26926358e-01, 9.27779357e-01, 9.29201024e-01,\n",
       "       9.29769690e-01, 9.32613022e-01, 9.34319022e-01, 9.38868354e-01,\n",
       "       9.42280353e-01, 9.44839352e-01, 9.45692351e-01, 9.47682684e-01,\n",
       "       9.49957350e-01, 9.51947683e-01, 9.53369349e-01, 9.56497015e-01,\n",
       "       9.59340347e-01, 9.60762013e-01, 9.63605345e-01, 9.66733011e-01,\n",
       "       9.72419676e-01, 9.74410009e-01, 9.78959340e-01, 9.81234006e-01,\n",
       "       9.85214672e-01, 9.91470003e-01, 1.00000000e+00])"
      ]
     },
     "execution_count": 18,
     "metadata": {},
     "output_type": "execute_result"
    }
   ],
   "source": [
    "fpr"
   ]
  },
  {
   "cell_type": "code",
   "execution_count": 19,
   "metadata": {},
   "outputs": [
    {
     "data": {
      "image/png": "[encoded data removed]",
      "text/plain": [
       "<matplotlib.figure.Figure at 0x7f4a452080f0>"
      ]
     },
     "metadata": {},
     "output_type": "display_data"
    }
   ],
   "source": [
    "set_pub_plot_context(context=\"notebook\")\n",
    "fig = plt.figure(figsize=(3,2), dpi=250)\n",
    "ax = fig.add_subplot(111,\n",
    "                    xlabel=\"False Positive Rate\",\n",
    "                    ylabel=\"True Positive Rate\")\n",
    "palette = sns.color_palette()\n",
    "ax.plot(fpr, tpr, c=palette[1], alpha=1, linewidth=3, label=\"ROC (AUC=%0.2f)\" % roc_auc)\n",
    "ax.plot([0,1],[0,1], '--k', alpha=.8)\n",
    "ax.legend()\n",
    "!mkdir ../../data/manuscript/figs/3/b\n",
    "save_for_pub(fig, path=\"../../data/manuscript/figs/3/b/v0\", dpi=500)\n",
    " "
   ]
  },
  {
   "cell_type": "code",
   "execution_count": null,
   "metadata": {},
   "outputs": [],
   "source": []
  }
 ],
 "metadata": {
  "kernelspec": {
   "display_name": "Python 3",
   "language": "python",
   "name": "python3"
  },
  "language_info": {
   "codemirror_mode": {
    "name": "ipython",
    "version": 3
   },
   "file_extension": ".py",
   "mimetype": "text/x-python",
   "name": "python",
   "nbconvert_exporter": "python",
   "pygments_lexer": "ipython3",
   "version": "3.6.0"
  }
 },
 "nbformat": 4,
 "nbformat_minor": 2
}
