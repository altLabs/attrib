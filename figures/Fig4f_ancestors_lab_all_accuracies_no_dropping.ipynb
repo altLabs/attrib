{
 "cells": [
  {
   "cell_type": "markdown",
   "metadata": {},
   "source": [
    "# This has the resplit train/val/test for balance and is using a simple random forest. We call ancestor lab \"second order\" or \"SO\" internally."
   ]
  },
  {
   "cell_type": "code",
   "execution_count": 1,
   "metadata": {},
   "outputs": [],
   "source": [
    "import numpy as np\n",
    "import pandas as pd\n",
    "import pickle\n",
    "import sys\n",
    "import random\n",
    "import os\n",
    "\n",
    "random.seed(42)\n",
    "np.random.seed(42)\n",
    "sys.path.append('../')\n",
    "from common.plot_style_utils import set_pub_plot_context, save_for_pub\n",
    "import seaborn as sns\n",
    "import matplotlib.pyplot as plt"
   ]
  },
  {
   "cell_type": "code",
   "execution_count": 2,
   "metadata": {},
   "outputs": [],
   "source": [
    "classes_seqonly = np.load(\"../../data/results/rf/classes_for_predictions_second_order_fixed_seqonly_simplemodel.npy\")\n",
    "classes_seqmeta = np.load(\"../../data/results/rf/classes_for_predictions_second_order_fixed_seq_meta_simplemodel.npy\")"
   ]
  },
  {
   "cell_type": "code",
   "execution_count": 3,
   "metadata": {},
   "outputs": [
    {
     "data": {
      "text/plain": [
       "array([  0.,   1.,   2.,   3.,   4.,   5.,   6.,   7.,   8.,   9.,  10.,\n",
       "        11.,  12.,  13.,  14.,  15.,  16.,  17.,  18.,  19.,  20.,  21.,\n",
       "        22.,  23.,  24.,  25.,  26.,  27.,  28.,  29.,  30.,  31.,  32.,\n",
       "        33.,  34.,  35.,  36.,  37.,  38.,  39.,  40.,  41.,  42.,  43.,\n",
       "        44.,  45.,  46.,  47.,  48.,  49.,  50.,  51.,  52.,  53.,  54.,\n",
       "        55.,  56.,  57.,  58.,  59.,  60.,  61.,  62.,  63.,  64.,  65.,\n",
       "        66.,  67.,  68.,  69.,  70.,  71.,  72.,  73.,  74.,  75.,  76.,\n",
       "        77.,  78.,  79.,  80.,  81.,  82.,  83.,  84.,  85.,  86.,  87.,\n",
       "        88.,  89.,  90.,  91.,  92.,  93.,  94.,  95.,  96.,  97.,  98.,\n",
       "        99., 100., 101., 102., 103., 104., 105., 106., 107., 108., 109.,\n",
       "       110., 111., 112., 113., 114., 115., 116., 117., 118., 119., 120.,\n",
       "       121., 122., 123., 124., 125., 126., 127., 128., 129., 130., 131.,\n",
       "       132., 133., 134., 135., 136., 137., 138., 139., 140., 141., 142.,\n",
       "       143., 144., 145., 146., 147., 148., 149., 150., 151., 152., 153.,\n",
       "       154., 155., 156., 157., 158., 159., 160., 161., 162., 163., 164.,\n",
       "       165., 166., 167., 168., 169., 170., 171., 172., 173., 174., 175.,\n",
       "       176., 177., 178., 179., 180., 181., 182., 183., 184., 185., 186.,\n",
       "       187.])"
      ]
     },
     "execution_count": 3,
     "metadata": {},
     "output_type": "execute_result"
    }
   ],
   "source": [
    "classes_seqonly"
   ]
  },
  {
   "cell_type": "code",
   "execution_count": 4,
   "metadata": {},
   "outputs": [
    {
     "data": {
      "text/plain": [
       "array([  0.,   1.,   2.,   3.,   4.,   5.,   6.,   7.,   8.,   9.,  10.,\n",
       "        11.,  12.,  13.,  14.,  15.,  16.,  17.,  18.,  19.,  20.,  21.,\n",
       "        22.,  23.,  24.,  25.,  26.,  27.,  28.,  29.,  30.,  31.,  32.,\n",
       "        33.,  34.,  35.,  36.,  37.,  38.,  39.,  40.,  41.,  42.,  43.,\n",
       "        44.,  45.,  46.,  47.,  48.,  49.,  50.,  51.,  52.,  53.,  54.,\n",
       "        55.,  56.,  57.,  58.,  59.,  60.,  61.,  62.,  63.,  64.,  65.,\n",
       "        66.,  67.,  68.,  69.,  70.,  71.,  72.,  73.,  74.,  75.,  76.,\n",
       "        77.,  78.,  79.,  80.,  81.,  82.,  83.,  84.,  85.,  86.,  87.,\n",
       "        88.,  89.,  90.,  91.,  92.,  93.,  94.,  95.,  96.,  97.,  98.,\n",
       "        99., 100., 101., 102., 103., 104., 105., 106., 107., 108., 109.,\n",
       "       110., 111., 112., 113., 114., 115., 116., 117., 118., 119., 120.,\n",
       "       121., 122., 123., 124., 125., 126., 127., 128., 129., 130., 131.,\n",
       "       132., 133., 134., 135., 136., 137., 138., 139., 140., 141., 142.,\n",
       "       143., 144., 145., 146., 147., 148., 149., 150., 151., 152., 153.,\n",
       "       154., 155., 156., 157., 158., 159., 160., 161., 162., 163., 164.,\n",
       "       165., 166., 167., 168., 169., 170., 171., 172., 173., 174., 175.,\n",
       "       176., 177., 178., 179., 180., 181., 182., 183., 184., 185., 186.,\n",
       "       187.])"
      ]
     },
     "execution_count": 4,
     "metadata": {},
     "output_type": "execute_result"
    }
   ],
   "source": [
    "classes_seqmeta"
   ]
  },
  {
   "cell_type": "code",
   "execution_count": 5,
   "metadata": {},
   "outputs": [],
   "source": [
    "class_labels = classes_seqonly"
   ]
  },
  {
   "cell_type": "code",
   "execution_count": null,
   "metadata": {},
   "outputs": [],
   "source": []
  },
  {
   "cell_type": "code",
   "execution_count": 6,
   "metadata": {},
   "outputs": [],
   "source": [
    "val = {\n",
    "    \"seqonly\": np.load(\n",
    "        \"../../data/results/rf/predictions_val_second_order_fixed_seqonly_simplemodel.npy\"\n",
    "    ),\n",
    "    \"seqmeta\": np.load(\n",
    "        \"../../data/results/rf/predictions_val_second_order_fixed_seq_meta_simplemodel.npy\"\n",
    "    )\n",
    "}\n",
    "train = {\n",
    "    \"seqonly\": np.load(\n",
    "        \"../../data/results/rf/predictions_train_second_order_fixed_seqonly_simplemodel.npy\"\n",
    "    ),\n",
    "    \"seqmeta\": np.load(\n",
    "        \"../../data/results/rf/predictions_train_second_order_fixed_seq_meta_simplemodel.npy\"\n",
    "    )\n",
    "}\n",
    "test = {\n",
    "    \"seqonly\": np.load(\n",
    "    \"../../data/results/rf/predictions_TEST_second_order_fixed_seqonly_simplemodel.npy\"\n",
    "    ),\n",
    "    \"seqmeta\": np.load(\n",
    "    \"../../data/results/rf/predictions_TEST_second_order_fixed_seq_meta_simplemodel.npy\"\n",
    "    )\n",
    "}\n",
    "predictions = {\n",
    "    \"val\":val,\n",
    "    \"train\":train,\n",
    "    \"test\":test\n",
    "}\n",
    "\n",
    "true = {\n",
    "    \"val\": np.load(\"../../data/tts/y_val_SO_fixed.pkl\"),\n",
    "    \"train\": np.load(\"../../data/tts/y_train_SO_fixed.pkl\"),\n",
    "    \"test\": np.load(\"../../data/tts/y_test_SO_fixed.pkl\")\n",
    "}\n",
    "\n"
   ]
  },
  {
   "cell_type": "code",
   "execution_count": 7,
   "metadata": {},
   "outputs": [
    {
     "name": "stdout",
     "output_type": "stream",
     "text": [
      "val\n",
      "(2181, 188)\n",
      "(2181, 188)\n",
      "\n",
      "\n",
      "\n",
      "train\n",
      "(13076, 188)\n",
      "(13076, 188)\n",
      "\n",
      "\n",
      "\n",
      "test\n",
      "(2169, 188)\n",
      "(2169, 188)\n",
      "\n",
      "\n",
      "\n"
     ]
    }
   ],
   "source": [
    "for i, v in predictions.items():\n",
    "    print(i)\n",
    "    print(v[\"seqonly\"].shape)\n",
    "    print(v[\"seqmeta\"].shape)\n",
    "    print(\"\\n\\n\")"
   ]
  },
  {
   "cell_type": "code",
   "execution_count": 8,
   "metadata": {},
   "outputs": [
    {
     "name": "stdout",
     "output_type": "stream",
     "text": [
      "val\n",
      "(2181,)\n",
      "\n",
      "\n",
      "\n",
      "train\n",
      "(13076,)\n",
      "\n",
      "\n",
      "\n",
      "test\n",
      "(2169,)\n",
      "\n",
      "\n",
      "\n"
     ]
    }
   ],
   "source": [
    "for i, v in true.items():\n",
    "    print(i)\n",
    "    print(v.shape)\n",
    "    print(\"\\n\\n\")"
   ]
  },
  {
   "cell_type": "code",
   "execution_count": 9,
   "metadata": {},
   "outputs": [],
   "source": [
    "def get_rf_labels(true,class_labels):\n",
    "    tmp = [np.flatnonzero(class_labels == v) for v in true]\n",
    "    return np.array([-1 if len(v) == 0 else v[0] for v in tmp])\n",
    "\n",
    "def acc(pred, true, class_labels=class_labels):\n",
    "    index = np.argmax(pred, axis=1)\n",
    "    classes = class_labels[index]\n",
    "    correct = (classes == true)\n",
    "    #print(true.shape)\n",
    "    accuracy = np.sum(correct) / len(true)\n",
    "    return accuracy\n",
    "\n",
    "def best_guess(true, \n",
    "               train_y=true['train'], \n",
    "               class_labels=class_labels,\n",
    "                k=1\n",
    "              ):\n",
    "    \"\"\" \n",
    "    Guesses most abundant class in the training set.\n",
    "    \"\"\"\n",
    "    guess = np.argsort(\n",
    "        np.bincount(np.asarray(train_y, dtype=int))\n",
    "    )[-k:]\n",
    "    correct = np.isin(true,guess)\n",
    "    accuracy = np.sum(correct) / len(true)\n",
    "    return accuracy\n",
    "\n",
    "def topkacc(pred,true,k,class_labels=class_labels):\n",
    "    topkindices = np.argsort(pred)[:,-k:]\n",
    "    print(true.shape)\n",
    "    true = get_rf_labels(true, class_labels)\n",
    "    #print(f\"True is {true.shape}, preds is {topkindices.shape}\")\n",
    "    correct = ((topkindices == true[:,None]).any(axis=1))\n",
    "    #print(len(true))\n",
    "    accuracy = np.sum(correct) / len(true)\n",
    "    return accuracy"
   ]
  },
  {
   "cell_type": "code",
   "execution_count": 10,
   "metadata": {},
   "outputs": [
    {
     "name": "stdout",
     "output_type": "stream",
     "text": [
      "(13076,)\n",
      "1.0\n",
      "1.0\n"
     ]
    }
   ],
   "source": [
    "print(topkacc(predictions['train']['seqonly'], true['train'], 1))\n",
    "print(acc(predictions['train']['seqonly'], true['train']))"
   ]
  },
  {
   "cell_type": "code",
   "execution_count": 11,
   "metadata": {},
   "outputs": [
    {
     "name": "stdout",
     "output_type": "stream",
     "text": [
      "val scores\n",
      "Best guess\n",
      " 0.14534617148097204\n",
      "Sequence only\n",
      "(2181,)\n",
      "Accuracy = 0.8262265016047684 \t Top10 = 0.9390187987161852\n",
      "Sequence and Metadata\n",
      "(2181,)\n",
      "Accuracy = 0.8830811554332875 \t Top10 = 0.9679046309032554 \n",
      "\n",
      "train scores\n",
      "Best guess\n",
      " 0.18331293973692261\n",
      "Sequence only\n",
      "(13076,)\n",
      "Accuracy = 1.0 \t Top10 = 1.0\n",
      "Sequence and Metadata\n",
      "(13076,)\n",
      "Accuracy = 1.0 \t Top10 = 1.0 \n",
      "\n",
      "test scores\n",
      "Best guess\n",
      " 0.13646841862609496\n",
      "Sequence only\n",
      "(2169,)\n",
      "Accuracy = 0.8054402950668511 \t Top10 = 0.9326878745965883\n",
      "Sequence and Metadata\n",
      "(2169,)\n",
      "Accuracy = 0.8704472106961734 \t Top10 = 0.9649608114338405 \n",
      "\n"
     ]
    }
   ],
   "source": [
    "for name in [\"val\", \"train\", \"test\"]:\n",
    "    print(f\"{name} scores\")\n",
    "    print(f\"Best guess\\n {best_guess(true[name])}\")\n",
    "    print(f\"Sequence only\")\n",
    "    print(f\"Accuracy = {acc(predictions[name]['seqonly'], true[name])} \\t Top10 = {topkacc(predictions[name]['seqonly'], true[name], 10)}\")\n",
    "    print(f\"Sequence and Metadata\")      \n",
    "    print(f\"Accuracy = {acc(predictions[name]['seqmeta'], true[name])} \\t Top10 = {topkacc(predictions[name]['seqmeta'], true[name], 10)} \\n\")"
   ]
  },
  {
   "cell_type": "code",
   "execution_count": 12,
   "metadata": {},
   "outputs": [
    {
     "name": "stdout",
     "output_type": "stream",
     "text": [
      "(2169,)\n"
     ]
    }
   ],
   "source": [
    "labels = [\"RF\", \"Baseline\", \"Uniform\"]\n",
    "top1 = [acc(predictions['test']['seqmeta'], true['test']),\n",
    "        best_guess(true['test'],k=1),\n",
    "        1 / len(np.unique(true['train']))\n",
    "       ]\n",
    "top10 = [topkacc(predictions['test']['seqmeta'], true['test'], 10),\n",
    "         best_guess(true['test'],k=10),\n",
    "         10 / len(np.unique(true['train']))\n",
    "        ]"
   ]
  },
  {
   "cell_type": "code",
   "execution_count": 13,
   "metadata": {},
   "outputs": [],
   "source": [
    "df = pd.DataFrame({'Method':labels*2, \"Accuracy\":top1 + top10, \n",
    "                   \"Top k\":[\"k=1\"] * 3 + [\"k=10\"]*3})"
   ]
  },
  {
   "cell_type": "code",
   "execution_count": 14,
   "metadata": {},
   "outputs": [
    {
     "data": {
      "image/png": "[encoded data removed]",
      "text/plain": [
       "<matplotlib.figure.Figure at 0x7efcab3de518>"
      ]
     },
     "metadata": {},
     "output_type": "display_data"
    }
   ],
   "source": [
    "set_pub_plot_context(context=\"notebook\")\n",
    "fig = plt.figure(figsize=(3,2), dpi=250)\n",
    "ax1 = fig.add_subplot(111,\n",
    "                    xlabel=\"Accuracy\")\n",
    "palette = sns.color_palette()\n",
    "#colors = [palette[0], palette[1], palette[0], palette[0]]\n",
    "#sns.barplot(y='labels', x='top1', hue='hue', data=df,alpha=1)\n",
    "sns.barplot(y=\"Accuracy\", x=\"Method\", hue=\"Top k\", data=df, alpha=1, ax=ax1, )#dodge=False)#kwargs={\"legend\":False})\n",
    "plt.xticks(rotation=-30, ha=\"left\", rotation_mode=\"anchor\")\n",
    "plt.legend(loc='upper right', framealpha=1)\n",
    "!mkdir ../../data/manuscript/figs/4/f_bar\n",
    "save_for_pub(fig, path=\"../../data/manuscript/figs/4/f_bar/v0\", dpi=500)"
   ]
  },
  {
   "cell_type": "code",
   "execution_count": 15,
   "metadata": {},
   "outputs": [
    {
     "data": {
      "text/html": [
       "<div>\n",
       "<style scoped>\n",
       "    .dataframe tbody tr th:only-of-type {\n",
       "        vertical-align: middle;\n",
       "    }\n",
       "\n",
       "    .dataframe tbody tr th {\n",
       "        vertical-align: top;\n",
       "    }\n",
       "\n",
       "    .dataframe thead th {\n",
       "        text-align: right;\n",
       "    }\n",
       "</style>\n",
       "<table border=\"1\" class=\"dataframe\">\n",
       "  <thead>\n",
       "    <tr style=\"text-align: right;\">\n",
       "      <th></th>\n",
       "      <th>Method</th>\n",
       "      <th>Accuracy</th>\n",
       "      <th>Top k</th>\n",
       "    </tr>\n",
       "  </thead>\n",
       "  <tbody>\n",
       "    <tr>\n",
       "      <th>0</th>\n",
       "      <td>RF</td>\n",
       "      <td>0.870447</td>\n",
       "      <td>k=1</td>\n",
       "    </tr>\n",
       "    <tr>\n",
       "      <th>1</th>\n",
       "      <td>Baseline</td>\n",
       "      <td>0.136468</td>\n",
       "      <td>k=1</td>\n",
       "    </tr>\n",
       "    <tr>\n",
       "      <th>2</th>\n",
       "      <td>Uniform</td>\n",
       "      <td>0.005319</td>\n",
       "      <td>k=1</td>\n",
       "    </tr>\n",
       "    <tr>\n",
       "      <th>3</th>\n",
       "      <td>RF</td>\n",
       "      <td>0.964961</td>\n",
       "      <td>k=10</td>\n",
       "    </tr>\n",
       "    <tr>\n",
       "      <th>4</th>\n",
       "      <td>Baseline</td>\n",
       "      <td>0.449977</td>\n",
       "      <td>k=10</td>\n",
       "    </tr>\n",
       "    <tr>\n",
       "      <th>5</th>\n",
       "      <td>Uniform</td>\n",
       "      <td>0.053191</td>\n",
       "      <td>k=10</td>\n",
       "    </tr>\n",
       "  </tbody>\n",
       "</table>\n",
       "</div>"
      ],
      "text/plain": [
       "     Method  Accuracy Top k\n",
       "0        RF  0.870447   k=1\n",
       "1  Baseline  0.136468   k=1\n",
       "2   Uniform  0.005319   k=1\n",
       "3        RF  0.964961  k=10\n",
       "4  Baseline  0.449977  k=10\n",
       "5   Uniform  0.053191  k=10"
      ]
     },
     "execution_count": 15,
     "metadata": {},
     "output_type": "execute_result"
    }
   ],
   "source": [
    "df"
   ]
  },
  {
   "cell_type": "code",
   "execution_count": 16,
   "metadata": {},
   "outputs": [
    {
     "data": {
      "text/plain": [
       "188"
      ]
     },
     "execution_count": 16,
     "metadata": {},
     "output_type": "execute_result"
    }
   ],
   "source": [
    "len(np.unique(true['train']))"
   ]
  },
  {
   "cell_type": "code",
   "execution_count": null,
   "metadata": {},
   "outputs": [],
   "source": []
  }
 ],
 "metadata": {
  "kernelspec": {
   "display_name": "Python 3",
   "language": "python",
   "name": "python3"
  },
  "language_info": {
   "codemirror_mode": {
    "name": "ipython",
    "version": 3
   },
   "file_extension": ".py",
   "mimetype": "text/x-python",
   "name": "python",
   "nbconvert_exporter": "python",
   "pygments_lexer": "ipython3",
   "version": "3.6.0"
  }
 },
 "nbformat": 4,
 "nbformat_minor": 2
}
