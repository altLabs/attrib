{
 "cells": [
  {
   "cell_type": "markdown",
   "metadata": {},
   "source": [
    "# random_forest_nation_of_origin.ipynb\n",
    "Predict the nation-of-origin from sequence and metadata.\n",
    "\n",
    "This code is RAM intensive. Start an AWS instance with sufficient resources (we recommend r5.metal or m5.24xlarge for shortest runtime - the code takes advantage of all the available CPU cores) with Ubuntu Server 18.04 LTS AMI (for example, ami-0f65671a86f061fcd). "
   ]
  },
  {
   "cell_type": "code",
   "execution_count": 8,
   "metadata": {},
   "outputs": [
    {
     "name": "stdout",
     "output_type": "stream",
     "text": [
      "Populating the interactive namespace from numpy and matplotlib\n"
     ]
    }
   ],
   "source": [
    "import pandas as pd\n",
    "import numpy as np\n",
    "import sklearn.preprocessing\n",
    "from sklearn.ensemble import RandomForestClassifier\n",
    "from sklearn.linear_model import LogisticRegressionCV, LogisticRegression\n",
    "from sklearn.feature_extraction.text import TfidfVectorizer\n",
    "import os\n",
    "import time\n",
    "from sklearn.externals import joblib\n",
    "\n",
    "%pylab inline"
   ]
  },
  {
   "cell_type": "code",
   "execution_count": 9,
   "metadata": {},
   "outputs": [],
   "source": [
    "path = '../../../data/tts'"
   ]
  },
  {
   "cell_type": "code",
   "execution_count": 10,
   "metadata": {},
   "outputs": [],
   "source": [
    "X_train_raw = pd.read_pickle(os.path.join(path, 'x_train_country.pkl'))\n",
    "X_test_raw = pd.read_pickle(os.path.join(path, 'x_test_country.pkl'))\n",
    "X_val_raw = pd.read_pickle(os.path.join(path, 'x_val_country.pkl'))\n",
    "\n",
    "y_train = pd.read_pickle(os.path.join(path, 'y_train_country.pkl'))\n",
    "#y_test = pd.read_pickle(os.path.join(path, 'y_test_country.pickle'))\n",
    "y_val = pd.read_pickle(os.path.join(path, 'y_val_country.pkl'))"
   ]
  },
  {
   "cell_type": "code",
   "execution_count": 11,
   "metadata": {},
   "outputs": [
    {
     "data": {
      "text/plain": [
       "(57444, 40)"
      ]
     },
     "execution_count": 11,
     "metadata": {},
     "output_type": "execute_result"
    }
   ],
   "source": [
    "X_train_raw.shape"
   ]
  },
  {
   "cell_type": "code",
   "execution_count": 12,
   "metadata": {},
   "outputs": [],
   "source": [
    "trainmeta = X_train_raw.loc[:,np.setdiff1d(X_train_raw.columns,['sequence'])].values\n",
    "valmeta = X_val_raw.loc[:,np.setdiff1d(X_val_raw.columns,['sequence'])].values\n",
    "testmeta = X_test_raw.loc[:,np.setdiff1d(X_test_raw.columns,['sequence'])].values\n",
    "\n",
    "ngram_start, ngram_end = 1, 4\n",
    "tfidf_14 = TfidfVectorizer(analyzer='char', ngram_range=(ngram_start, ngram_end))\n",
    "\n",
    "trainseq_tfidf_14 = tfidf_14.fit_transform(X_train_raw.sequence)\n",
    "\n",
    "valseq_tfidf_14 = tfidf_14.transform(X_val_raw.sequence)\n",
    "testseq_tfidf_14 = tfidf_14.transform(X_test_raw.sequence)\n",
    "\n",
    "X_train_14 = np.concatenate([trainseq_tfidf_14.todense(), trainmeta], axis=1)\n",
    "X_val_14 = np.concatenate([valseq_tfidf_14.todense(), valmeta], axis=1)\n",
    "X_test_14 = np.concatenate([testseq_tfidf_14.todense(), testmeta], axis=1)"
   ]
  },
  {
   "cell_type": "code",
   "execution_count": null,
   "metadata": {},
   "outputs": [],
   "source": [
    "reasonable_params = {'class_weight': 'balanced',\n",
    " 'max_features': 0.5,\n",
    " 'n_estimators': 1000,\n",
    " 'n_jobs': -1}"
   ]
  },
  {
   "cell_type": "markdown",
   "metadata": {},
   "source": [
    "# US vs Non-US"
   ]
  },
  {
   "cell_type": "code",
   "execution_count": 102,
   "metadata": {
    "collapsed": true
   },
   "outputs": [
    {
     "name": "stdout",
     "output_type": "stream",
     "text": [
      "1.0\n"
     ]
    },
    {
     "ename": "NameError",
     "evalue": "name 'n' is not defined",
     "output_type": "error",
     "traceback": [
      "\u001b[0;31m---------------------------------------------------------------------------\u001b[0m",
      "\u001b[0;31mNameError\u001b[0m                                 Traceback (most recent call last)",
      "\u001b[0;32m<ipython-input-102-6197be3323d3>\u001b[0m in \u001b[0;36m<module>\u001b[0;34m\u001b[0m\n\u001b[1;32m      4\u001b[0m \u001b[0;34m\u001b[0m\u001b[0m\n\u001b[1;32m      5\u001b[0m \u001b[0mprint\u001b[0m\u001b[0;34m(\u001b[0m\u001b[0mmodel_selforno\u001b[0m\u001b[0;34m.\u001b[0m\u001b[0mscore\u001b[0m\u001b[0;34m(\u001b[0m\u001b[0mX_train_14\u001b[0m\u001b[0;34m,\u001b[0m \u001b[0;34m(\u001b[0m\u001b[0my_train\u001b[0m \u001b[0;34m==\u001b[0m \u001b[0;36m33.0\u001b[0m\u001b[0;34m)\u001b[0m\u001b[0;34m)\u001b[0m\u001b[0;34m)\u001b[0m\u001b[0;34m\u001b[0m\u001b[0m\n\u001b[0;32m----> 6\u001b[0;31m \u001b[0mprint\u001b[0m\u001b[0;34m(\u001b[0m\u001b[0mmodel_selforno\u001b[0m\u001b[0;34m.\u001b[0m\u001b[0mscore\u001b[0m\u001b[0;34m(\u001b[0m\u001b[0mX_val_14\u001b[0m\u001b[0;34m,\u001b[0m \u001b[0mn\u001b[0m\u001b[0;34m(\u001b[0m\u001b[0my_val\u001b[0m \u001b[0;34m==\u001b[0m \u001b[0;36m33.0\u001b[0m\u001b[0;34m)\u001b[0m\u001b[0;34m)\u001b[0m\u001b[0;34m)\u001b[0m\u001b[0;34m\u001b[0m\u001b[0m\n\u001b[0m",
      "\u001b[0;31mNameError\u001b[0m: name 'n' is not defined"
     ]
    }
   ],
   "source": [
    "model_selforno = RandomForestClassifier(**reasonable_params)\n",
    "\n",
    "model_selforno.fit(X_train_14, (y_train == 33.0))"
   ]
  },
  {
   "cell_type": "code",
   "execution_count": 104,
   "metadata": {},
   "outputs": [
    {
     "name": "stdout",
     "output_type": "stream",
     "text": [
      "1.0\n",
      "0.8738973246565438\n"
     ]
    }
   ],
   "source": [
    "print(model_selforno.score(X_train_14, (y_train == 33.0)))\n",
    "print(model_selforno.score(X_val_14, (y_val == 33.0)))"
   ]
  },
  {
   "cell_type": "code",
   "execution_count": 109,
   "metadata": {},
   "outputs": [
    {
     "data": {
      "text/plain": [
       "['model_selforno.joblibpkl']"
      ]
     },
     "execution_count": 109,
     "metadata": {},
     "output_type": "execute_result"
    }
   ],
   "source": [
    "joblib.dump(model_selforno, f\"model_selforno.joblibpkl\")"
   ]
  },
  {
   "cell_type": "code",
   "execution_count": 110,
   "metadata": {},
   "outputs": [],
   "source": [
    "np.save(\"./predictions_val_countries_seq_meta_selforno.npy\", model_selforno.predict_proba(X_val_14))\n",
    "\n",
    "np.save(\"./predictions_TEST_countries_seq_meta_selforno.npy\", model_selforno.predict_proba(X_test_14))\n",
    "\n",
    "np.save(\"./predictions_train_countries_seq_meta_selforno.npy\", model_selforno.predict_proba(X_train_14))\n",
    "\n",
    "np.save(\"./classes_for_predictions_countries_seq_selforno.npy\", model_selforno.classes_)"
   ]
  },
  {
   "cell_type": "markdown",
   "metadata": {},
   "source": [
    "# Outside US by country"
   ]
  },
  {
   "cell_type": "code",
   "execution_count": null,
   "metadata": {},
   "outputs": [],
   "source": [
    "model_nous= RandomForestClassifier(**reasonable_params)\n",
    "\n",
    "model_nous.fit(X_train_14[np.where(y_train != 33.0)], y_train[np.where(y_train != 33.0)])"
   ]
  },
  {
   "cell_type": "code",
   "execution_count": 87,
   "metadata": {},
   "outputs": [
    {
     "name": "stdout",
     "output_type": "stream",
     "text": [
      "1.0\n",
      "0.7280909521553766\n"
     ]
    }
   ],
   "source": [
    "print(model_nous.score(X_train_14[np.where(y_train != 33.0)], y_train[np.where(y_train != 33.0)]))\n",
    "print(model_nous.score(X_val_14[np.where(y_val != 33.0)], y_val[np.where(y_val != 33.0)]))"
   ]
  },
  {
   "cell_type": "code",
   "execution_count": 108,
   "metadata": {},
   "outputs": [
    {
     "data": {
      "text/plain": [
       "['model_nous.joblibpkl']"
      ]
     },
     "execution_count": 108,
     "metadata": {},
     "output_type": "execute_result"
    }
   ],
   "source": [
    "joblib.dump(model_nous, f\"model_nous.joblibpkl\")"
   ]
  },
  {
   "cell_type": "code",
   "execution_count": 106,
   "metadata": {},
   "outputs": [],
   "source": [
    "np.save(\"./predictions_val_countries_seq_meta_nous.npy\", model_nous.predict_proba(X_val_14))\n",
    "\n",
    "np.save(\"./predictions_TEST_countries_seq_meta_nous.npy\", model_nous.predict_proba(X_test_14))\n",
    "\n",
    "np.save(\"./predictions_train_countries_seq_meta_nous.npy\", model_nous.predict_proba(X_train_14))\n",
    "\n",
    "np.save(\"./classes_for_predictions_countries_seq_nous.npy\", model_nous.classes_)"
   ]
  }
 ],
 "metadata": {
  "kernelspec": {
   "display_name": "Python 3",
   "language": "python",
   "name": "python3"
  },
  "language_info": {
   "codemirror_mode": {
    "name": "ipython",
    "version": 3
   },
   "file_extension": ".py",
   "mimetype": "text/x-python",
   "name": "python",
   "nbconvert_exporter": "python",
   "pygments_lexer": "ipython3",
   "version": "3.6.0"
  }
 },
 "nbformat": 4,
 "nbformat_minor": 2
}
