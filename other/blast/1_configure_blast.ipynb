{
 "cells": [
  {
   "cell_type": "markdown",
   "metadata": {},
   "source": [
    "# Setup the blast baseline.\n",
    "This requires you download and install the blast executables and ensure the command-line tool is working.\n",
    "\n",
    "The goal of this notebook is to setup the blast databases that will be used to match a validation and test-set sequence to the nearest training set element based on e-value.\n",
    "\n",
    "We have two training sets (one a subset of the other).\n",
    "\n",
    "1. Attribution (standard, first-order)\n",
    "2. Country attribution"
   ]
  },
  {
   "cell_type": "code",
   "execution_count": 1,
   "metadata": {},
   "outputs": [],
   "source": [
    "import numpy as np\n",
    "import pandas as pd\n",
    "import sys\n",
    "import random\n",
    "import os\n",
    "random.seed(42)\n",
    "np.random.seed(42)\n"
   ]
  },
  {
   "cell_type": "code",
   "execution_count": 2,
   "metadata": {},
   "outputs": [],
   "source": [
    "firstorder = pd.read_pickle(\"../../../data/tts/train_x_no_nan.pkl\")\n",
    "countries = pd.read_pickle(\"../../../data/tts/x_train_country.pkl\")"
   ]
  },
  {
   "cell_type": "code",
   "execution_count": 3,
   "metadata": {},
   "outputs": [],
   "source": [
    "# Make a temp fasta file \n",
    "with open('firstorder.fasta','w+') as f:\n",
    "    for i in range(len(firstorder)):\n",
    "        f.write(f'>{i}\\n')\n",
    "        f.write(f'{firstorder[\"sequence\"].values[i]}\\n')"
   ]
  },
  {
   "cell_type": "code",
   "execution_count": 4,
   "metadata": {},
   "outputs": [],
   "source": [
    "with open('countries.fasta','w+') as f:\n",
    "    for i in range(len(countries)):\n",
    "        f.write(f'>{i}\\n')\n",
    "        f.write(f'{countries[\"sequence\"].values[i]}\\n')"
   ]
  },
  {
   "cell_type": "code",
   "execution_count": 5,
   "metadata": {},
   "outputs": [
    {
     "name": "stdout",
     "output_type": "stream",
     "text": [
      "\n",
      "\n",
      "Building a new DB, current time: 06/17/2019 20:36:46\n",
      "New DB name:   firstorder.fasta\n",
      "New DB title:  firstorder\n",
      "Sequence type: Nucleotide\n",
      "Keep Linkouts: T\n",
      "Keep MBits: T\n",
      "Maximum file size: 1000000000B\n",
      "Adding sequences from FASTA; added 63017 sequences in 5.46553 seconds.\n"
     ]
    }
   ],
   "source": [
    "!makeblastdb -in firstorder.fasta -parse_seqids -title \"firstorder\" -dbtype nucl"
   ]
  },
  {
   "cell_type": "code",
   "execution_count": 6,
   "metadata": {},
   "outputs": [
    {
     "name": "stdout",
     "output_type": "stream",
     "text": [
      "\n",
      "\n",
      "Building a new DB, current time: 06/17/2019 20:37:28\n",
      "New DB name:   countries.fasta\n",
      "New DB title:  countries\n",
      "Sequence type: Nucleotide\n",
      "Keep Linkouts: T\n",
      "Keep MBits: T\n",
      "Maximum file size: 1000000000B\n",
      "Adding sequences from FASTA; added 57444 sequences in 4.77446 seconds.\n"
     ]
    }
   ],
   "source": [
    "!makeblastdb -in countries.fasta -parse_seqids -title \"countries\" -dbtype nucl"
   ]
  }
 ],
 "metadata": {
  "kernelspec": {
   "display_name": "Python 3",
   "language": "python",
   "name": "python3"
  },
  "language_info": {
   "codemirror_mode": {
    "name": "ipython",
    "version": 3
   },
   "file_extension": ".py",
   "mimetype": "text/x-python",
   "name": "python",
   "nbconvert_exporter": "python",
   "pygments_lexer": "ipython3",
   "version": "3.6.0"
  }
 },
 "nbformat": 4,
 "nbformat_minor": 2
}
