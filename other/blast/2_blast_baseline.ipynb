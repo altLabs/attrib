{
 "cells": [
  {
   "cell_type": "markdown",
   "metadata": {},
   "source": [
    "# Blast baseline\n",
    "For a set of query sequences x and true labels y, compute the accuracy based on assigning each query the label of the nearest sequence in the test set according to blastn evalues. This notebook generates an output .csv which summarizes the blast results. The example here is for blasting the validation set in the standard first-order attribution task."
   ]
  },
  {
   "cell_type": "code",
   "execution_count": 1,
   "metadata": {},
   "outputs": [],
   "source": [
    "import numpy as np\n",
    "import pandas as pd\n",
    "import sys\n",
    "import random\n",
    "import os\n",
    "random.seed(42)\n",
    "np.random.seed(42)\n"
   ]
  },
  {
   "cell_type": "code",
   "execution_count": 2,
   "metadata": {},
   "outputs": [],
   "source": [
    "result_name = \"blast_firstorder_val\"\n",
    "database = \"firstorder\"\n",
    "\n",
    "#evalue cutoff \n",
    "cutoff = 10\n",
    "x = pd.read_pickle(\"../../../data/tts/val_x_no_nan.pkl\")\n",
    "y = pd.read_pickle(\"../../../data/tts/y_val_ord.pkl\")"
   ]
  },
  {
   "cell_type": "code",
   "execution_count": 6,
   "metadata": {},
   "outputs": [
    {
     "data": {
      "text/plain": [
       "7466"
      ]
     },
     "execution_count": 6,
     "metadata": {},
     "output_type": "execute_result"
    }
   ],
   "source": [
    "len(y)"
   ]
  },
  {
   "cell_type": "code",
   "execution_count": 3,
   "metadata": {},
   "outputs": [],
   "source": [
    "if database == \"firstorder\":\n",
    "    train_y = pd.read_pickle(\"../../../data/tts/y_train_ord.pkl\")\n",
    "elif database == \"countries\":\n",
    "    train_y = pd.read_pickle(\"../../../data/tts/y_train_country.pkl\")\n",
    "else:\n",
    "    raise ValueError(\"Database unknown\")"
   ]
  },
  {
   "cell_type": "code",
   "execution_count": 4,
   "metadata": {},
   "outputs": [],
   "source": [
    "# Write the whole query fasta with incrementing index\n",
    "with open('query.fasta','w+') as f:\n",
    "    for i in range(len(x)):\n",
    "        f.write(f'>{i}\\n')\n",
    "        f.write(f'{x[\"sequence\"].values[i]}\\n')"
   ]
  },
  {
   "cell_type": "code",
   "execution_count": 5,
   "metadata": {},
   "outputs": [],
   "source": [
    "!blastn -db {database}.fasta -query query.fasta -out {result_name}.csv -outfmt 6 -max_target_seqs 9999999 -evalue {cutoff} -max_hsps=1 -num_threads 8"
   ]
  }
 ],
 "metadata": {
  "kernelspec": {
   "display_name": "Python 3",
   "language": "python",
   "name": "python3"
  },
  "language_info": {
   "codemirror_mode": {
    "name": "ipython",
    "version": 3
   },
   "file_extension": ".py",
   "mimetype": "text/x-python",
   "name": "python",
   "nbconvert_exporter": "python",
   "pygments_lexer": "ipython3",
   "version": "3.6.0"
  }
 },
 "nbformat": 4,
 "nbformat_minor": 2
}
