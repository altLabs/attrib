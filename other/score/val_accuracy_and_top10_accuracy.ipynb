{
 "cells": [
  {
   "cell_type": "code",
   "execution_count": 1,
   "metadata": {},
   "outputs": [],
   "source": [
    "import numpy as np\n",
    "import pandas as pd\n",
    "import pickle\n",
    "import sys\n",
    "import random\n",
    "import os\n",
    "import matplotlib.pyplot as plt\n",
    "from scipy.special import softmax\n",
    "%matplotlib inline"
   ]
  },
  {
   "cell_type": "code",
   "execution_count": 2,
   "metadata": {},
   "outputs": [],
   "source": [
    "n_bins = 15 # Number of bins for calibration estimates"
   ]
  },
  {
   "cell_type": "code",
   "execution_count": 3,
   "metadata": {},
   "outputs": [],
   "source": [
    "seqmeta = np.load(\"../../../data/results/100_subsamples_withmeta_MLP_tune_full_300300.npy\")"
   ]
  },
  {
   "cell_type": "code",
   "execution_count": 4,
   "metadata": {},
   "outputs": [],
   "source": [
    "seqonly = np.load(\"../../../data/results/100_subseq_ensembled_200ksteps_probs_NOmeta.npy\")"
   ]
  },
  {
   "cell_type": "code",
   "execution_count": 5,
   "metadata": {},
   "outputs": [
    {
     "name": "stdout",
     "output_type": "stream",
     "text": [
      "(7466, 1314)\n"
     ]
    },
    {
     "data": {
      "text/plain": [
       "(7466, 1314)"
      ]
     },
     "execution_count": 5,
     "metadata": {},
     "output_type": "execute_result"
    }
   ],
   "source": [
    "print(seqmeta.shape)\n",
    "seqonly.shape"
   ]
  },
  {
   "cell_type": "code",
   "execution_count": 6,
   "metadata": {},
   "outputs": [
    {
     "data": {
      "text/plain": [
       "array([ 142., 1136., 1136., ...,  972., 1269.,  452.])"
      ]
     },
     "execution_count": 6,
     "metadata": {},
     "output_type": "execute_result"
    }
   ],
   "source": [
    "true = pickle.load( open( \"../../../data/tts/y_val_ord.pkl\", \"rb\" ) )\n",
    "true"
   ]
  },
  {
   "cell_type": "code",
   "execution_count": 7,
   "metadata": {},
   "outputs": [],
   "source": [
    "def acc(pred, true):\n",
    "    classes = np.argmax(pred, axis=1)\n",
    "    correct = (classes == true)\n",
    "    accuracy = np.sum(correct) / len(true)\n",
    "    return accuracy\n",
    "\n",
    "def calibration(true, predicted, n_bins):\n",
    "    \"\"\"\n",
    "    Inputs\n",
    "    true: a vector of indices of the correct class\n",
    "    predicted: a n_samples x n_labels matrix of softmax probabilities\n",
    "    n_bins: integer > 0, number of bins to divide the interval [0,1]\n",
    "    \n",
    "    Outputs: ECE, MCE, bins, acc_per_bin, conf_per_bin\n",
    "    \"\"\"\n",
    "    true = np.asarray(true,dtype=int)\n",
    "    bins = np.linspace(0,1, num=n_bins, endpoint=False)\n",
    "    #print(bins)\n",
    "    correct = (np.argmax(predicted,axis=1) == true)\n",
    "    #prob = predicted[list(zip(np.arange(len(true)),true.tolist()))]\n",
    "    #prob = predicted[np.arange(len(true)),true.tolist()]\n",
    "    \n",
    "    # Above is for the correct, this is max confidence\n",
    "    prob = np.max(predicted,axis=1)\n",
    "    \n",
    "    # Now I need to bin the indices of each.\n",
    "    binned = np.digitize(prob,bins) - 1 # Returns bin index per row\n",
    "    #print(binned)\n",
    "    accs = []\n",
    "    confs = []\n",
    "    for bin_idx in range(n_bins):\n",
    "        idxs = np.where(binned == bin_idx)\n",
    "        subset = correct[idxs]\n",
    "        accuracy = np.sum(subset) / len(subset)\n",
    "        conf_subset = prob[idxs]\n",
    "        confidence = np.sum(conf_subset) / len(conf_subset)\n",
    "        accs.append(accuracy)\n",
    "        confs.append(confidence)\n",
    "    #print(f\"acc is {accs}\")\n",
    "    #print(f\"confs is {confs}\")\n",
    "    diffs = np.abs(np.asarray(accs) - np.asarray(confs))\n",
    "    diffs = diffs[~np.isnan(diffs)]\n",
    "    #print(diffs)\n",
    "    return np.mean(prob), np.mean(diffs), np.max(diffs), bins, accs, confs"
   ]
  },
  {
   "cell_type": "code",
   "execution_count": 8,
   "metadata": {},
   "outputs": [
    {
     "data": {
      "text/plain": [
       "0.7404232520760782"
      ]
     },
     "execution_count": 8,
     "metadata": {},
     "output_type": "execute_result"
    }
   ],
   "source": [
    "acc(seqmeta,true)"
   ]
  },
  {
   "cell_type": "code",
   "execution_count": 9,
   "metadata": {},
   "outputs": [
    {
     "data": {
      "text/plain": [
       "0.6644789713367265"
      ]
     },
     "execution_count": 9,
     "metadata": {},
     "output_type": "execute_result"
    }
   ],
   "source": [
    "acc(seqonly,true)"
   ]
  },
  {
   "cell_type": "code",
   "execution_count": 10,
   "metadata": {},
   "outputs": [],
   "source": [
    "def topkacc(pred,true,k):\n",
    "    topkclasses = np.argsort(pred)[:,-k:]\n",
    "    correct = ((topkclasses == true[:,None]).any(axis=1))\n",
    "    accuracy = np.sum(correct) / len(true)\n",
    "    return accuracy"
   ]
  },
  {
   "cell_type": "code",
   "execution_count": 11,
   "metadata": {},
   "outputs": [
    {
     "data": {
      "text/plain": [
       "0.6644789713367265"
      ]
     },
     "execution_count": 11,
     "metadata": {},
     "output_type": "execute_result"
    }
   ],
   "source": [
    "topkacc(seqonly,true,1)"
   ]
  },
  {
   "cell_type": "code",
   "execution_count": 12,
   "metadata": {},
   "outputs": [
    {
     "data": {
      "text/plain": [
       "0.7404232520760782"
      ]
     },
     "execution_count": 12,
     "metadata": {},
     "output_type": "execute_result"
    }
   ],
   "source": [
    "topkacc(seqmeta,true,1)"
   ]
  },
  {
   "cell_type": "code",
   "execution_count": 13,
   "metadata": {},
   "outputs": [
    {
     "name": "stdout",
     "output_type": "stream",
     "text": [
      "FOR SEQUENCE ONLY\n",
      "Top 1 accuracy is 0.6644789713367265\n",
      "Top 2 accuracy is 0.7476560407179212\n",
      "Top 3 accuracy is 0.7800696490758103\n",
      "Top 4 accuracy is 0.7992231449236539\n",
      "Top 5 accuracy is 0.8119474953120814\n",
      "Top 6 accuracy is 0.8215912135012055\n",
      "Top 7 accuracy is 0.830565229038307\n",
      "Top 8 accuracy is 0.836726493436914\n",
      "Top 9 accuracy is 0.8435574604875435\n",
      "Top 10 accuracy is 0.8499866059469595\n",
      "Average confidence:0.6555356979370117\n",
      "ECE:0.07606418991636642\n",
      "MCE:0.17606578372110704\n"
     ]
    },
    {
     "name": "stderr",
     "output_type": "stream",
     "text": [
      "/media/sandias42/ExDrive/Software/Python/Anaconda/envs/attrib/lib/python3.6/site-packages/ipykernel_launcher.py:34: RuntimeWarning: invalid value encountered in long_scalars\n",
      "/media/sandias42/ExDrive/Software/Python/Anaconda/envs/attrib/lib/python3.6/site-packages/ipykernel_launcher.py:36: RuntimeWarning: invalid value encountered in true_divide\n"
     ]
    },
    {
     "data": {
      "text/plain": [
       "<matplotlib.legend.Legend at 0x7ffb47752550>"
      ]
     },
     "execution_count": 13,
     "metadata": {},
     "output_type": "execute_result"
    },
    {
     "data": {
      "image/png": "[encoded data removed]",
      "text/plain": [
       "<matplotlib.figure.Figure at 0x7ffb0cce0438>"
      ]
     },
     "metadata": {
      "needs_background": "light"
     },
     "output_type": "display_data"
    }
   ],
   "source": [
    "# That works, now check top 10\n",
    "print(\"FOR SEQUENCE ONLY\")\n",
    "for i in range(10):\n",
    "    print(f\"Top {i+1} accuracy is {topkacc(seqonly,true,i+1)}\")\n",
    "    \n",
    "avg_confidence, ECE, MCE, bins, acc, conf = calibration(true,seqonly,n_bins)\n",
    "print(f\"Average confidence:{avg_confidence}\")\n",
    "print(f\"ECE:{ECE}\")\n",
    "print(f\"MCE:{MCE}\")\n",
    "fig = plt.figure(figsize=(6,6))\n",
    "ax = fig.add_subplot(111)\n",
    "ax.bar(left=bins, height=acc, align=\"edge\", width=1/len(bins), color=\"r\", label=\"Accuracy\", alpha=.5)\n",
    "ax.bar(left=bins, height=conf, align=\"edge\", width=1/len(bins), color=\"b\", label=\"Confidence\", alpha=.5)\n",
    "ax.legend()"
   ]
  },
  {
   "cell_type": "code",
   "execution_count": 14,
   "metadata": {},
   "outputs": [
    {
     "name": "stdout",
     "output_type": "stream",
     "text": [
      "FOR SEQUENCE AND METADATA\n",
      "Top 1 accuracy is 0.7404232520760782\n",
      "Top 2 accuracy is 0.8002946691668898\n",
      "Top 3 accuracy is 0.828422180551835\n",
      "Top 4 accuracy is 0.844762925261184\n",
      "Top 5 accuracy is 0.8562818108759711\n",
      "Top 6 accuracy is 0.8648540048218591\n",
      "Top 7 accuracy is 0.8704795070988481\n",
      "Top 8 accuracy is 0.8759710688454326\n",
      "Top 9 accuracy is 0.8790517010447362\n",
      "Top 10 accuracy is 0.8830699169568712\n",
      "Average confidence:0.7814821600914001\n",
      "ECE:0.03201866754296369\n",
      "MCE:0.10940266250324837\n"
     ]
    },
    {
     "name": "stderr",
     "output_type": "stream",
     "text": [
      "/media/sandias42/ExDrive/Software/Python/Anaconda/envs/attrib/lib/python3.6/site-packages/ipykernel_launcher.py:34: RuntimeWarning: invalid value encountered in long_scalars\n",
      "/media/sandias42/ExDrive/Software/Python/Anaconda/envs/attrib/lib/python3.6/site-packages/ipykernel_launcher.py:36: RuntimeWarning: invalid value encountered in true_divide\n"
     ]
    },
    {
     "data": {
      "text/plain": [
       "<matplotlib.legend.Legend at 0x7ffb0c894ba8>"
      ]
     },
     "execution_count": 14,
     "metadata": {},
     "output_type": "execute_result"
    },
    {
     "data": {
      "image/png": "[encoded data removed]",
      "text/plain": [
       "<matplotlib.figure.Figure at 0x7ffb0c960390>"
      ]
     },
     "metadata": {
      "needs_background": "light"
     },
     "output_type": "display_data"
    }
   ],
   "source": [
    "print(\"FOR SEQUENCE AND METADATA\")\n",
    "for i in range(10):\n",
    "    print(f\"Top {i+1} accuracy is {topkacc(seqmeta,true,i+1)}\")\n",
    "    \n",
    "avg_confidence, ECE, MCE, bins, acc, conf = calibration(true,seqmeta,n_bins)\n",
    "print(f\"Average confidence:{avg_confidence}\")\n",
    "print(f\"ECE:{ECE}\")\n",
    "print(f\"MCE:{MCE}\")\n",
    "fig = plt.figure(figsize=(6,6))\n",
    "ax = fig.add_subplot(111)\n",
    "ax.bar(left=bins, height=acc, align=\"edge\", width=1/len(bins), color=\"r\", label=\"Accuracy\", alpha=.5)\n",
    "ax.bar(left=bins, height=conf, align=\"edge\", width=1/len(bins), color=\"b\", label=\"Confidence\", alpha=.5)\n",
    "ax.legend()"
   ]
  },
  {
   "cell_type": "code",
   "execution_count": 23,
   "metadata": {},
   "outputs": [
    {
     "name": "stdout",
     "output_type": "stream",
     "text": [
      "NIELSEN AND VOIGT\n",
      "Top 1 accuracy is 0.5712563621751943\n",
      "Top 2 accuracy is 0.6690329493704795\n",
      "Top 3 accuracy is 0.7101526922046612\n",
      "Top 4 accuracy is 0.7339941066166622\n",
      "Top 5 accuracy is 0.7485936244307527\n",
      "Top 6 accuracy is 0.7607822126975623\n",
      "Top 7 accuracy is 0.7701580498258773\n",
      "Top 8 accuracy is 0.7802035896062148\n",
      "Top 9 accuracy is 0.7864987945352263\n",
      "Top 10 accuracy is 0.7921242968122154\n",
      "Average confidence:0.6413941383361816\n",
      "ECE:0.0868612446993197\n",
      "MCE:0.22378535511231917\n"
     ]
    },
    {
     "name": "stderr",
     "output_type": "stream",
     "text": [
      "/media/sandias42/ExDrive/Software/Python/Anaconda/envs/attrib/lib/python3.6/site-packages/ipykernel_launcher.py:34: RuntimeWarning: invalid value encountered in long_scalars\n",
      "/media/sandias42/ExDrive/Software/Python/Anaconda/envs/attrib/lib/python3.6/site-packages/ipykernel_launcher.py:36: RuntimeWarning: invalid value encountered in true_divide\n"
     ]
    },
    {
     "data": {
      "text/plain": [
       "<matplotlib.legend.Legend at 0x7ffb0e18e908>"
      ]
     },
     "execution_count": 23,
     "metadata": {},
     "output_type": "execute_result"
    },
    {
     "data": {
      "image/png": "[encoded data removed]",
      "text/plain": [
       "<matplotlib.figure.Figure at 0x7ffb07b084a8>"
      ]
     },
     "metadata": {
      "needs_background": "light"
     },
     "output_type": "display_data"
    }
   ],
   "source": [
    "seqonly = seqonly = np.load(\"../../../data/CNN/VAL_LOGITS_nv_787800.npy\")\n",
    "\n",
    "# That works, now check top 10\n",
    "print(\"NIELSEN AND VOIGT\")\n",
    "for i in range(10):\n",
    "    print(f\"Top {i+1} accuracy is {topkacc(seqonly,true,i+1)}\")\n",
    "    \n",
    "avg_confidence, ECE, MCE, bins, acc, conf = calibration(true,softmax(seqonly,axis=-1),n_bins)\n",
    "print(f\"Average confidence:{avg_confidence}\")\n",
    "print(f\"ECE:{ECE}\")\n",
    "print(f\"MCE:{MCE}\")\n",
    "fig = plt.figure(figsize=(6,6))\n",
    "ax = fig.add_subplot(111)\n",
    "ax.bar(left=bins, height=acc, align=\"edge\", width=1/len(bins), color=\"r\", label=\"Accuracy\", alpha=.5)\n",
    "ax.bar(left=bins, height=conf, align=\"edge\", width=1/len(bins), color=\"b\", label=\"Confidence\", alpha=.5)\n",
    "ax.legend()"
   ]
  },
  {
   "cell_type": "code",
   "execution_count": null,
   "metadata": {},
   "outputs": [],
   "source": []
  }
 ],
 "metadata": {
  "kernelspec": {
   "display_name": "Python 3",
   "language": "python",
   "name": "python3"
  },
  "language_info": {
   "codemirror_mode": {
    "name": "ipython",
    "version": 3
   },
   "file_extension": ".py",
   "mimetype": "text/x-python",
   "name": "python",
   "nbconvert_exporter": "python",
   "pygments_lexer": "ipython3",
   "version": "3.6.0"
  }
 },
 "nbformat": 4,
 "nbformat_minor": 2
}
