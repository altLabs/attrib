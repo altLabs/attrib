{
 "cells": [
  {
   "cell_type": "code",
   "execution_count": 1,
   "metadata": {},
   "outputs": [],
   "source": [
    "import numpy as np\n",
    "import pandas as pd\n",
    "import pickle\n",
    "import sys\n",
    "import random\n",
    "import os\n",
    "import matplotlib.pyplot as plt\n",
    "import seaborn as sns\n",
    "os.path.append('../../common')\n",
    "from scipy.special import softmax\n",
    "%matplotlib inline\n",
    "from common.plot_style_utils import set_pub_plot_context, save_for_pub"
   ]
  },
  {
   "cell_type": "code",
   "execution_count": 2,
   "metadata": {},
   "outputs": [],
   "source": [
    "set_pub_plot_context(context=\"paper\")\n",
    "palette = sns.color_palette()\n",
    "sns.set_style(\"white\")"
   ]
  },
  {
   "cell_type": "code",
   "execution_count": 3,
   "metadata": {},
   "outputs": [],
   "source": [
    "n_bins = 15 # Number of bins for calibration estimates"
   ]
  },
  {
   "cell_type": "code",
   "execution_count": 4,
   "metadata": {},
   "outputs": [],
   "source": [
    "# Logits, divide by temp (copied from the scaling notebook) and softmax\n",
    "seqmeta = np.load(\"../../../data/results/TEST_LOGITS_100_sub_MLP_full_with_metadata_300300.npy\")\n",
    "seqmeta = np.asarray(softmax(np.asarray(seqmeta / 1.723,dtype=np.float64), axis=1),dtype=np.float64)"
   ]
  },
  {
   "cell_type": "code",
   "execution_count": 5,
   "metadata": {},
   "outputs": [],
   "source": [
    "seqonly = np.load(\"../../../data/results/TEST_LOGITS_100_sub_nometadata_201300.npy\")\n",
    "seqonly = softmax(seqonly / 1.47, axis=1)"
   ]
  },
  {
   "cell_type": "code",
   "execution_count": 6,
   "metadata": {},
   "outputs": [
    {
     "name": "stdout",
     "output_type": "stream",
     "text": [
      "(11351, 1314)\n"
     ]
    },
    {
     "data": {
      "text/plain": [
       "(11351, 1314)"
      ]
     },
     "execution_count": 6,
     "metadata": {},
     "output_type": "execute_result"
    }
   ],
   "source": [
    "print(seqmeta.shape)\n",
    "seqonly.shape"
   ]
  },
  {
   "cell_type": "code",
   "execution_count": 7,
   "metadata": {},
   "outputs": [
    {
     "data": {
      "text/plain": [
       "array([ 142.,  142.,  142., ..., 1313., 1313., 1313.])"
      ]
     },
     "execution_count": 7,
     "metadata": {},
     "output_type": "execute_result"
    }
   ],
   "source": [
    "true = pickle.load( open( \"../../../data/tts/y_test_ord.pkl\", \"rb\" ) )\n",
    "true"
   ]
  },
  {
   "cell_type": "code",
   "execution_count": 8,
   "metadata": {},
   "outputs": [],
   "source": [
    "def acc(pred, true):\n",
    "    classes = np.argmax(pred, axis=1)\n",
    "    correct = (classes == true)\n",
    "    accuracy = np.sum(correct) / len(true)\n",
    "    return accuracy\n",
    "\n",
    "def calibration(true, predicted, n_bins):\n",
    "    \"\"\"\n",
    "    Inputs\n",
    "    true: a vector of indices of the correct class\n",
    "    predicted: a n_samples x n_labels matrix of softmax probabilities\n",
    "    n_bins: integer > 0, number of bins to divide the interval [0,1]\n",
    "    \n",
    "    Outputs: ECE, MCE, bins, acc_per_bin, conf_per_bin\n",
    "    \"\"\"\n",
    "    true = np.asarray(true,dtype=int)\n",
    "    bins = np.linspace(0,1, num=n_bins, endpoint=False)\n",
    "    #print(bins)\n",
    "    correct = (np.argmax(predicted,axis=1) == true)\n",
    "    #prob = predicted[list(zip(np.arange(len(true)),true.tolist()))]\n",
    "    #prob = predicted[np.arange(len(true)),true.tolist()]\n",
    "    \n",
    "    # Above is for the correct, this is max confidence\n",
    "    prob = np.max(predicted,axis=1)\n",
    "    \n",
    "    # Now I need to bin the indices of each.\n",
    "    binned = np.digitize(prob,bins) - 1 # Returns bin index per row\n",
    "    #print(binned)\n",
    "    accs = []\n",
    "    confs = []\n",
    "    for bin_idx in range(n_bins):\n",
    "        idxs = np.where(binned == bin_idx)\n",
    "        subset = correct[idxs]\n",
    "        accuracy = np.sum(subset) / len(subset)\n",
    "        conf_subset = prob[idxs]\n",
    "        confidence = np.sum(conf_subset) / len(conf_subset)\n",
    "        accs.append(accuracy)\n",
    "        confs.append(confidence)\n",
    "    #print(f\"acc is {accs}\")\n",
    "    #print(f\"confs is {confs}\")\n",
    "    diffs = np.abs(np.asarray(accs) - np.asarray(confs))\n",
    "    diffs = diffs[~np.isnan(diffs)]\n",
    "    #print(diffs)\n",
    "    return np.mean(prob), np.mean(diffs), np.max(diffs), bins, accs, confs"
   ]
  },
  {
   "cell_type": "code",
   "execution_count": 9,
   "metadata": {},
   "outputs": [
    {
     "data": {
      "text/plain": [
       "0.6931547881243943"
      ]
     },
     "execution_count": 9,
     "metadata": {},
     "output_type": "execute_result"
    }
   ],
   "source": [
    "acc(seqmeta,true)"
   ]
  },
  {
   "cell_type": "code",
   "execution_count": 10,
   "metadata": {},
   "outputs": [
    {
     "data": {
      "text/plain": [
       "0.574310633424368"
      ]
     },
     "execution_count": 10,
     "metadata": {},
     "output_type": "execute_result"
    }
   ],
   "source": [
    "acc(seqonly,true)"
   ]
  },
  {
   "cell_type": "code",
   "execution_count": 11,
   "metadata": {},
   "outputs": [],
   "source": [
    "def topkacc(pred,true,k):\n",
    "    topkclasses = np.argsort(pred)[:,-k:]\n",
    "    correct = ((topkclasses == true[:,None]).any(axis=1))\n",
    "    accuracy = np.sum(correct) / len(true)\n",
    "    return accuracy"
   ]
  },
  {
   "cell_type": "code",
   "execution_count": 12,
   "metadata": {},
   "outputs": [
    {
     "data": {
      "text/plain": [
       "0.574310633424368"
      ]
     },
     "execution_count": 12,
     "metadata": {},
     "output_type": "execute_result"
    }
   ],
   "source": [
    "topkacc(seqonly,true,1)"
   ]
  },
  {
   "cell_type": "code",
   "execution_count": 13,
   "metadata": {},
   "outputs": [
    {
     "data": {
      "text/plain": [
       "0.6931547881243943"
      ]
     },
     "execution_count": 13,
     "metadata": {},
     "output_type": "execute_result"
    }
   ],
   "source": [
    "topkacc(seqmeta,true,1)"
   ]
  },
  {
   "cell_type": "code",
   "execution_count": 14,
   "metadata": {},
   "outputs": [
    {
     "name": "stdout",
     "output_type": "stream",
     "text": [
      "FOR SEQUENCE ONLY\n",
      "Top 1 accuracy is 0.574310633424368\n",
      "Top 2 accuracy is 0.6831116201215752\n",
      "Top 3 accuracy is 0.7236366839925997\n",
      "Top 4 accuracy is 0.7483041141749626\n",
      "Top 5 accuracy is 0.7646903356532464\n",
      "Top 6 accuracy is 0.7762311690599947\n",
      "Top 7 accuracy is 0.7856576513082548\n",
      "Top 8 accuracy is 0.7933221742577746\n",
      "Top 9 accuracy is 0.8007224033124835\n",
      "Top 10 accuracy is 0.8062725751035151\n",
      "Average confidence:0.5575624704360962\n",
      "ECE:0.031177979835180565\n",
      "MCE:0.06067017377433137\n"
     ]
    },
    {
     "data": {
      "text/plain": [
       "<matplotlib.legend.Legend at 0x7f745d706550>"
      ]
     },
     "execution_count": 14,
     "metadata": {},
     "output_type": "execute_result"
    },
    {
     "data": {
      "image/png": "[encoded data removed]",
      "text/plain": [
       "<matplotlib.figure.Figure at 0x7f7425878d68>"
      ]
     },
     "metadata": {},
     "output_type": "display_data"
    }
   ],
   "source": [
    "# That works, now check top 10\n",
    "print(\"FOR SEQUENCE ONLY\")\n",
    "for i in range(10):\n",
    "    print(f\"Top {i+1} accuracy is {topkacc(seqonly,true,i+1)}\")\n",
    "    \n",
    "avg_confidence, ECE, MCE, bins, acc, conf = calibration(true,seqonly,n_bins)\n",
    "print(f\"Average confidence:{avg_confidence}\")\n",
    "print(f\"ECE:{ECE}\")\n",
    "print(f\"MCE:{MCE}\")\n",
    "fig = plt.figure(figsize=(6,6))\n",
    "ax = fig.add_subplot(111)\n",
    "ax.bar(left=bins, height=acc, align=\"edge\", width=1/len(bins), color=\"r\", label=\"Accuracy\", alpha=.5)\n",
    "ax.bar(left=bins, height=conf, align=\"edge\", width=1/len(bins), color=\"b\", label=\"Confidence\", alpha=.5)\n",
    "ax.legend()"
   ]
  },
  {
   "cell_type": "code",
   "execution_count": 15,
   "metadata": {},
   "outputs": [
    {
     "name": "stdout",
     "output_type": "stream",
     "text": [
      "FOR SEQUENCE AND METADATA\n",
      "Top 1 accuracy is 0.6931547881243943\n",
      "Top 2 accuracy is 0.7578186943881596\n",
      "Top 3 accuracy is 0.7877720024667431\n",
      "Top 4 accuracy is 0.8045987137697119\n",
      "Top 5 accuracy is 0.8148180777024051\n",
      "Top 6 accuracy is 0.8242445599506651\n",
      "Top 7 accuracy is 0.8300590256365078\n",
      "Top 8 accuracy is 0.8358734913223504\n",
      "Top 9 accuracy is 0.8400140956743899\n",
      "Top 10 accuracy is 0.8446832878160514\n",
      "Average confidence:0.6952907863901774\n",
      "ECE:0.01657231112516345\n",
      "MCE:0.03711654742962457\n",
      "mkdir: cannot create directory ‘../data/manuscript/figs/2/’: File exists\n",
      "mkdir: cannot create directory ‘../data/manuscript/figs/2/b’: File exists\n"
     ]
    },
    {
     "data": {
      "image/png": "[encoded data removed]",
      "text/plain": [
       "<matplotlib.figure.Figure at 0x7f742571d208>"
      ]
     },
     "metadata": {},
     "output_type": "display_data"
    }
   ],
   "source": [
    "print(\"FOR SEQUENCE AND METADATA\")\n",
    "for i in range(10):\n",
    "    print(f\"Top {i+1} accuracy is {topkacc(seqmeta,true,i+1)}\")\n",
    "    \n",
    "avg_confidence, ECE, MCE, bins, acc, conf = calibration(true,seqmeta,n_bins)\n",
    "print(f\"Average confidence:{avg_confidence}\")\n",
    "print(f\"ECE:{ECE}\")\n",
    "print(f\"MCE:{MCE}\")\n",
    "fig = plt.figure(figsize=(2.5,2), dpi=250)\n",
    "ax = fig.add_subplot(111,\n",
    "                    xlabel=\"Predicted probability (binned)\",\n",
    "                     ylabel=\"Accuracy\"\n",
    "                    )\n",
    "ax.bar(left=bins, height=acc, align=\"edge\", width=1/len(bins), color=palette[0])\n",
    "ax.bar(left=bins, height=conf, align=\"edge\", width=1/len(bins), color=palette[1])\n",
    "whiteout = [acc[i] if acc[i] < conf[i] else conf[i] for i in range(len(acc)) ]\n",
    "ax.bar(left=bins, height=whiteout, align=\"edge\", width=1/len(bins), color=\"w\", alpha=1)\n",
    "\n",
    "\n",
    "\n",
    "# The hline is not centered by default (hence adding the small val).\n",
    "ax.scatter(bins+((1/n_bins)/2)+.0009,acc,c=\"black\", s=10, marker=\"_\", alpha=.8, zorder=1000000, label=\"Accuracy\")\n",
    "ax.scatter(bins+((1/n_bins)/2),conf,c=\"black\", s=10, marker=\".\", alpha=.8, zorder=1000000, label=\"Confidence\")\n",
    "ax.legend()\n",
    "sns.despine()\n",
    "!mkdir ../../../data/manuscript/figs/2/\n",
    "!mkdir ../../../data/manuscript/figs/2/b\n",
    "save_for_pub(fig, path=\"../../../data/manuscript/figs/2/b/v0\", dpi=500)"
   ]
  }
 ],
 "metadata": {
  "kernelspec": {
   "display_name": "Python 3",
   "language": "python",
   "name": "python3"
  },
  "language_info": {
   "codemirror_mode": {
    "name": "ipython",
    "version": 3
   },
   "file_extension": ".py",
   "mimetype": "text/x-python",
   "name": "python",
   "nbconvert_exporter": "python",
   "pygments_lexer": "ipython3",
   "version": "3.6.0"
  }
 },
 "nbformat": 4,
 "nbformat_minor": 2
}
