{
 "cells": [
  {
   "cell_type": "code",
   "execution_count": 1,
   "metadata": {},
   "outputs": [],
   "source": [
    "import numpy as np\n",
    "import pandas as pd\n",
    "import pickle\n",
    "import sys\n",
    "import random\n",
    "import os\n",
    "import matplotlib.pyplot as plt\n",
    "import seaborn as sns\n",
    "import scipy as sp\n",
    "%matplotlib inline\n",
    "os.path.append('../../common/')\n",
    "from common.plot_style_utils import set_pub_plot_context, save_for_pub"
   ]
  },
  {
   "cell_type": "code",
   "execution_count": 2,
   "metadata": {},
   "outputs": [],
   "source": [
    "set_pub_plot_context(context=\"paper\")\n",
    "palette = sns.color_palette()\n",
    "sns.set_style(\"white\")"
   ]
  },
  {
   "cell_type": "code",
   "execution_count": 3,
   "metadata": {},
   "outputs": [],
   "source": [
    "n_bins = 15 # Number of bins for calibration estimates"
   ]
  },
  {
   "cell_type": "code",
   "execution_count": 4,
   "metadata": {},
   "outputs": [],
   "source": [
    "seqmeta = np.load(\"../../../data/results/TEST_100_sub_MLP_full_with_metadata_300300.npy\")"
   ]
  },
  {
   "cell_type": "code",
   "execution_count": 5,
   "metadata": {},
   "outputs": [],
   "source": [
    "seqonly = np.load(\"../../../data/results/TEST_100_sub_nometadata_201300.npy\")"
   ]
  },
  {
   "cell_type": "code",
   "execution_count": 6,
   "metadata": {},
   "outputs": [
    {
     "name": "stdout",
     "output_type": "stream",
     "text": [
      "(11351, 1314)\n"
     ]
    },
    {
     "data": {
      "text/plain": [
       "(11351, 1314)"
      ]
     },
     "execution_count": 6,
     "metadata": {},
     "output_type": "execute_result"
    }
   ],
   "source": [
    "print(seqmeta.shape)\n",
    "seqonly.shape"
   ]
  },
  {
   "cell_type": "code",
   "execution_count": 7,
   "metadata": {},
   "outputs": [
    {
     "data": {
      "text/plain": [
       "array([ 142.,  142.,  142., ..., 1313., 1313., 1313.])"
      ]
     },
     "execution_count": 7,
     "metadata": {},
     "output_type": "execute_result"
    }
   ],
   "source": [
    "true = pickle.load( open( \"../../../data/tts/y_test_ord.pkl\", \"rb\" ) )\n",
    "true"
   ]
  },
  {
   "cell_type": "code",
   "execution_count": 8,
   "metadata": {},
   "outputs": [],
   "source": [
    "def acc(pred, true):\n",
    "    classes = np.argmax(pred, axis=1)\n",
    "    correct = (classes == true)\n",
    "    accuracy = np.sum(correct) / len(true)\n",
    "    return accuracy\n",
    "\n",
    "def calibration(true, predicted, n_bins):\n",
    "    \"\"\"\n",
    "    Inputs\n",
    "    true: a vector of indices of the correct class\n",
    "    predicted: a n_samples x n_labels matrix of softmax probabilities\n",
    "    n_bins: integer > 0, number of bins to divide the interval [0,1]\n",
    "    \n",
    "    Outputs: ECE, MCE, bins, acc_per_bin, conf_per_bin\n",
    "    \"\"\"\n",
    "    true = np.asarray(true,dtype=int)\n",
    "    bins = np.linspace(0,1, num=n_bins, endpoint=False)\n",
    "    correct = (np.argmax(predicted,axis=1) == true)\n",
    "\n",
    "    \n",
    "    # Above is for the correct, this is max confidence\n",
    "    prob = np.max(predicted,axis=1)\n",
    "    \n",
    "    # Now I need to bin the indices of each.\n",
    "    binned = np.digitize(prob,bins) - 1 # Returns bin index per row\n",
    "\n",
    "    accs = []\n",
    "    confs = []\n",
    "    for bin_idx in range(n_bins):\n",
    "        idxs = np.where(binned == bin_idx)\n",
    "        subset = correct[idxs]\n",
    "        accuracy = np.sum(subset) / len(subset)\n",
    "        conf_subset = prob[idxs]\n",
    "        confidence = np.sum(conf_subset) / len(conf_subset)\n",
    "        accs.append(accuracy)\n",
    "        confs.append(confidence)\n",
    "    diffs = np.abs(np.asarray(accs) - np.asarray(confs))\n",
    "    diffs = diffs[~np.isnan(diffs)]\n",
    "    #print(diffs)\n",
    "    return np.mean(prob), np.mean(diffs), np.max(diffs), bins, accs, confs"
   ]
  },
  {
   "cell_type": "code",
   "execution_count": 9,
   "metadata": {
    "scrolled": true
   },
   "outputs": [
    {
     "data": {
      "text/plain": [
       "0.7005550171791032"
      ]
     },
     "execution_count": 9,
     "metadata": {},
     "output_type": "execute_result"
    }
   ],
   "source": [
    "acc(seqmeta,true)"
   ]
  },
  {
   "cell_type": "code",
   "execution_count": 10,
   "metadata": {},
   "outputs": [
    {
     "data": {
      "text/plain": [
       "0.5988899656417936"
      ]
     },
     "execution_count": 10,
     "metadata": {},
     "output_type": "execute_result"
    }
   ],
   "source": [
    "acc(seqonly,true)"
   ]
  },
  {
   "cell_type": "code",
   "execution_count": 11,
   "metadata": {},
   "outputs": [],
   "source": [
    "def topkacc(pred,true,k):\n",
    "    topkclasses = np.argsort(pred)[:,-k:]\n",
    "    correct = ((topkclasses == true[:,None]).any(axis=1))\n",
    "    accuracy = np.sum(correct) / len(true)\n",
    "    return accuracy"
   ]
  },
  {
   "cell_type": "code",
   "execution_count": 12,
   "metadata": {},
   "outputs": [
    {
     "data": {
      "text/plain": [
       "0.5988899656417936"
      ]
     },
     "execution_count": 12,
     "metadata": {},
     "output_type": "execute_result"
    }
   ],
   "source": [
    "topkacc(seqonly,true,1)"
   ]
  },
  {
   "cell_type": "code",
   "execution_count": 13,
   "metadata": {},
   "outputs": [
    {
     "data": {
      "text/plain": [
       "0.7005550171791032"
      ]
     },
     "execution_count": 13,
     "metadata": {},
     "output_type": "execute_result"
    }
   ],
   "source": [
    "topkacc(seqmeta,true,1)"
   ]
  },
  {
   "cell_type": "code",
   "execution_count": 14,
   "metadata": {},
   "outputs": [
    {
     "name": "stdout",
     "output_type": "stream",
     "text": [
      "FOR SEQUENCE ONLY\n",
      "Top 1 accuracy is 0.5988899656417936\n",
      "Top 2 accuracy is 0.6852259712800635\n",
      "Top 3 accuracy is 0.7211699409743635\n",
      "Top 4 accuracy is 0.7444278037177341\n",
      "Top 5 accuracy is 0.7600211435115849\n",
      "Top 6 accuracy is 0.7716500748832702\n",
      "Top 7 accuracy is 0.7803717734120342\n",
      "Top 8 accuracy is 0.7902387454849793\n",
      "Top 9 accuracy is 0.7971984847150031\n",
      "Top 10 accuracy is 0.8033653422605938\n",
      "Average confidence:0.6163217425346375\n",
      "ECE:0.057281973576351966\n",
      "MCE:0.15466035302005599\n"
     ]
    },
    {
     "name": "stderr",
     "output_type": "stream",
     "text": [
      "/media/sandias42/ExDrive/Software/Python/Anaconda/envs/attrib/lib/python3.6/site-packages/ipykernel_launcher.py:34: RuntimeWarning: invalid value encountered in long_scalars\n",
      "/media/sandias42/ExDrive/Software/Python/Anaconda/envs/attrib/lib/python3.6/site-packages/ipykernel_launcher.py:36: RuntimeWarning: invalid value encountered in true_divide\n"
     ]
    },
    {
     "data": {
      "text/plain": [
       "<matplotlib.legend.Legend at 0x7fc6e0664550>"
      ]
     },
     "execution_count": 14,
     "metadata": {},
     "output_type": "execute_result"
    },
    {
     "data": {
      "image/png": "[encoded data removed]",
      "text/plain": [
       "<matplotlib.figure.Figure at 0x7fc6a1602198>"
      ]
     },
     "metadata": {},
     "output_type": "display_data"
    }
   ],
   "source": [
    "# That works, now check top 10\n",
    "print(\"FOR SEQUENCE ONLY\")\n",
    "for i in range(10):\n",
    "    print(f\"Top {i+1} accuracy is {topkacc(seqonly,true,i+1)}\")\n",
    "    \n",
    "avg_confidence, ECE, MCE, bins, acc, conf = calibration(true,seqonly,n_bins)\n",
    "print(f\"Average confidence:{avg_confidence}\")\n",
    "print(f\"ECE:{ECE}\")\n",
    "print(f\"MCE:{MCE}\")\n",
    "fig = plt.figure(figsize=(6,6))\n",
    "ax = fig.add_subplot(111)\n",
    "ax.bar(left=bins, height=acc, align=\"edge\", width=1/len(bins), color=\"r\", label=\"Accuracy\", alpha=.5)\n",
    "ax.bar(left=bins, height=conf, align=\"edge\", width=1/len(bins), color=\"b\", label=\"Confidence\", alpha=.5)\n",
    "ax.legend()"
   ]
  },
  {
   "cell_type": "code",
   "execution_count": 15,
   "metadata": {
    "scrolled": true
   },
   "outputs": [
    {
     "name": "stdout",
     "output_type": "stream",
     "text": [
      "FOR SEQUENCE AND METADATA\n",
      "Top 1 accuracy is 0.7005550171791032\n",
      "Top 2 accuracy is 0.7646903356532464\n",
      "Top 3 accuracy is 0.7923530966434675\n",
      "Top 4 accuracy is 0.8091798079464364\n",
      "Top 5 accuracy is 0.8198396617038146\n",
      "Top 6 accuracy is 0.8282970663377676\n",
      "Top 7 accuracy is 0.8334948462690512\n",
      "Top 8 accuracy is 0.8383402343405867\n",
      "Top 9 accuracy is 0.8426570346225002\n",
      "Top 10 accuracy is 0.8474143247290987\n",
      "Average confidence:0.75801682472229\n",
      "ECE:0.04766391991022291\n",
      "MCE:0.08967013888888897\n",
      "mkdir: cannot create directory ‘../data/manuscript/figs/2/’: File exists\n"
     ]
    },
    {
     "name": "stderr",
     "output_type": "stream",
     "text": [
      "/media/sandias42/ExDrive/Software/Python/Anaconda/envs/attrib/lib/python3.6/site-packages/ipykernel_launcher.py:34: RuntimeWarning: invalid value encountered in long_scalars\n",
      "/media/sandias42/ExDrive/Software/Python/Anaconda/envs/attrib/lib/python3.6/site-packages/ipykernel_launcher.py:36: RuntimeWarning: invalid value encountered in true_divide\n"
     ]
    },
    {
     "name": "stdout",
     "output_type": "stream",
     "text": [
      "mkdir: cannot create directory ‘../data/manuscript/figs/2/a’: File exists\r\n"
     ]
    },
    {
     "data": {
      "image/png": "[encoded data removed]",
      "text/plain": [
       "<matplotlib.figure.Figure at 0x7fc6a12f8390>"
      ]
     },
     "metadata": {},
     "output_type": "display_data"
    }
   ],
   "source": [
    "print(\"FOR SEQUENCE AND METADATA\")\n",
    "for i in range(10):\n",
    "    print(f\"Top {i+1} accuracy is {topkacc(seqmeta,true,i+1)}\")\n",
    "    \n",
    "avg_confidence, ECE, MCE, bins, acc, conf = calibration(true,seqmeta,n_bins)\n",
    "print(f\"Average confidence:{avg_confidence}\")\n",
    "print(f\"ECE:{ECE}\")\n",
    "print(f\"MCE:{MCE}\")\n",
    "fig = plt.figure(figsize=(2.5,2), dpi=250)\n",
    "ax = fig.add_subplot(111,\n",
    "                    xlabel=\"Predicted probability (binned)\",\n",
    "                     ylabel=\"Accuracy\"\n",
    "                    )\n",
    "ax.bar(left=bins, height=acc, align=\"edge\", width=1/len(bins), color=palette[0], label=\"Underconfident\")\n",
    "ax.bar(left=bins, height=conf, align=\"edge\", width=1/len(bins), color=palette[1], label=\"Overconfident\")\n",
    "whiteout = [acc[i] if acc[i] < conf[i] else conf[i] for i in range(len(acc)) ]\n",
    "ax.bar(left=bins, height=whiteout, align=\"edge\", width=1/len(bins), color=\"w\", alpha=1)\n",
    "\n",
    "\n",
    "ax.legend()\n",
    "# The hline is not centered by default (hence adding the small val).\n",
    "ax.scatter(bins+((1/n_bins)/2)+.0009,acc,c=\"black\", s=10, marker=\"_\", alpha=.8, zorder=1000000)\n",
    "ax.scatter(bins+((1/n_bins)/2),conf,c=\"black\", s=10, marker=\".\", alpha=.8, zorder=1000000)\n",
    "sns.despine()\n",
    "!mkdir ../../../data/manuscript/figs/2/\n",
    "!mkdir ../../../data/manuscript/figs/2/a\n",
    "save_for_pub(fig, path=\"../../../data/manuscript/figs/2/a/v0\", dpi=500)"
   ]
  },
  {
   "cell_type": "code",
   "execution_count": 24,
   "metadata": {},
   "outputs": [
    {
     "name": "stdout",
     "output_type": "stream",
     "text": [
      "NIELSEN AND VOIGT\n",
      "Top 1 accuracy is 0.5025988899656418\n",
      "Top 2 accuracy is 0.5887586996740375\n",
      "Top 3 accuracy is 0.6350982292309048\n",
      "Top 4 accuracy is 0.6626728922561889\n",
      "Top 5 accuracy is 0.6830235221566382\n",
      "Top 6 accuracy is 0.6979120782309929\n",
      "Top 7 accuracy is 0.7091886177429302\n",
      "Top 8 accuracy is 0.7188793938860012\n",
      "Top 9 accuracy is 0.7276891903797023\n",
      "Top 10 accuracy is 0.734648929609726\n",
      "Average confidence:0.607609212398529\n",
      "ECE:0.1127005200784581\n",
      "MCE:0.17385486990322824\n"
     ]
    },
    {
     "name": "stderr",
     "output_type": "stream",
     "text": [
      "/media/sandias42/ExDrive/Software/Python/Anaconda/envs/attrib/lib/python3.6/site-packages/ipykernel_launcher.py:34: RuntimeWarning: invalid value encountered in long_scalars\n",
      "/media/sandias42/ExDrive/Software/Python/Anaconda/envs/attrib/lib/python3.6/site-packages/ipykernel_launcher.py:36: RuntimeWarning: invalid value encountered in true_divide\n"
     ]
    },
    {
     "data": {
      "text/plain": [
       "<matplotlib.legend.Legend at 0x7fc6a4efd1d0>"
      ]
     },
     "execution_count": 24,
     "metadata": {},
     "output_type": "execute_result"
    },
    {
     "data": {
      "image/png": "[encoded data removed]",
      "text/plain": [
       "<matplotlib.figure.Figure at 0x7fc6a11b2898>"
      ]
     },
     "metadata": {},
     "output_type": "display_data"
    }
   ],
   "source": [
    "seqonly = np.load(\"../../../data/CNN/TEST_LOGITS_nv_787800.npy\")\n",
    "\n",
    "# That works, now check top 10\n",
    "print(\"NIELSEN AND VOIGT\")\n",
    "for i in range(10):\n",
    "    print(f\"Top {i+1} accuracy is {topkacc(seqonly,true,i+1)}\")\n",
    "    \n",
    "avg_confidence, ECE, MCE, bins, acc, conf = calibration(true,sp.special.softmax(seqonly,axis=-1),n_bins)\n",
    "print(f\"Average confidence:{avg_confidence}\")\n",
    "print(f\"ECE:{ECE}\")\n",
    "print(f\"MCE:{MCE}\")\n",
    "fig = plt.figure(figsize=(6,6))\n",
    "ax = fig.add_subplot(111)\n",
    "ax.bar(left=bins, height=acc, align=\"edge\", width=1/len(bins), color=\"r\", label=\"Accuracy\", alpha=.5)\n",
    "ax.bar(left=bins, height=conf, align=\"edge\", width=1/len(bins), color=\"b\", label=\"Confidence\", alpha=.5)\n",
    "ax.legend()"
   ]
  }
 ],
 "metadata": {
  "kernelspec": {
   "display_name": "Python 3",
   "language": "python",
   "name": "python3"
  },
  "language_info": {
   "codemirror_mode": {
    "name": "ipython",
    "version": 3
   },
   "file_extension": ".py",
   "mimetype": "text/x-python",
   "name": "python",
   "nbconvert_exporter": "python",
   "pygments_lexer": "ipython3",
   "version": "3.6.0"
  }
 },
 "nbformat": 4,
 "nbformat_minor": 2
}
